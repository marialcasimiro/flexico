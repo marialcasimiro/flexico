{
 "cells": [
  {
   "cell_type": "markdown",
   "id": "90398433",
   "metadata": {},
   "source": [
    "# Required imports"
   ]
  },
  {
   "cell_type": "code",
   "execution_count": 1,
   "id": "6e916a6a",
   "metadata": {
    "ExecuteTime": {
     "end_time": "2024-07-30T17:13:32.511740Z",
     "start_time": "2024-07-30T17:13:30.855237Z"
    },
    "execution": {
     "iopub.execute_input": "2024-12-15T15:28:36.017522Z",
     "iopub.status.busy": "2024-12-15T15:28:36.017008Z",
     "iopub.status.idle": "2024-12-15T15:28:37.098353Z",
     "shell.execute_reply": "2024-12-15T15:28:37.098011Z",
     "shell.execute_reply.started": "2024-12-15T15:28:36.017482Z"
    }
   },
   "outputs": [],
   "source": [
    "import os\n",
    "import json\n",
    "import pandas as pd\n",
    "import matplotlib.pyplot as plt\n",
    "\n",
    "from helper_functions import * \n",
    "from opus_eng_fra_features import *"
   ]
  },
  {
   "cell_type": "markdown",
   "id": "a0f3da5a",
   "metadata": {},
   "source": [
    "# Plot settings"
   ]
  },
  {
   "cell_type": "code",
   "execution_count": 2,
   "id": "c9f07ae4",
   "metadata": {
    "ExecuteTime": {
     "end_time": "2024-07-30T17:13:32.522524Z",
     "start_time": "2024-07-30T17:13:32.513447Z"
    },
    "execution": {
     "iopub.execute_input": "2024-12-15T15:28:37.099302Z",
     "iopub.status.busy": "2024-12-15T15:28:37.099128Z",
     "iopub.status.idle": "2024-12-15T15:28:37.106112Z",
     "shell.execute_reply": "2024-12-15T15:28:37.105827Z",
     "shell.execute_reply.started": "2024-12-15T15:28:37.099290Z"
    }
   },
   "outputs": [],
   "source": [
    "FONT_SIZE = 12\n",
    "\n",
    "plt.rc('xtick', labelsize=FONT_SIZE)\n",
    "plt.rc('ytick', labelsize=FONT_SIZE)\n",
    "plt.rc('font', size=FONT_SIZE)\n",
    "plt.rc('axes', labelsize=\"medium\")\n",
    "\n",
    "metrics_palette = {\n",
    "    'comet22': \"lightsteelblue\", \n",
    "    'comet22-qe': \"royalblue\", \n",
    "    'chrf': \"khaki\", \n",
    "    'sacrebleu': \"goldenrod\",\n",
    "}\n",
    "\n",
    "scalers_palette = {\n",
    "    'none, lin': \"#11324D\",\n",
    "    'none, rf': \"#6B7AA1\", \n",
    "    'none, xgb': \"#A6DCEF\",\n",
    "    'standard, lin': \"#3A4D39\",\n",
    "    'standard, rf': \"#79AC78\", \n",
    "    'standard, xgb': \"#D0E7D2\", \n",
    "    'min-max, lin': \"#7F669D\",\n",
    "    'min-max, rf': \"#BA94D1\", \n",
    "    'min-max, xgb': \"#DEBACE\",\n",
    "}\n",
    "\n",
    "%matplotlib widget"
   ]
  },
  {
   "cell_type": "markdown",
   "id": "fa981b35",
   "metadata": {},
   "source": [
    "# Load data"
   ]
  },
  {
   "cell_type": "code",
   "execution_count": 3,
   "id": "ed18ac94",
   "metadata": {
    "ExecuteTime": {
     "end_time": "2024-07-30T17:13:32.525586Z",
     "start_time": "2024-07-30T17:13:32.523436Z"
    },
    "execution": {
     "iopub.execute_input": "2024-12-15T15:28:37.106764Z",
     "iopub.status.busy": "2024-12-15T15:28:37.106617Z",
     "iopub.status.idle": "2024-12-15T15:28:37.108484Z",
     "shell.execute_reply": "2024-12-15T15:28:37.108214Z",
     "shell.execute_reply.started": "2024-12-15T15:28:37.106751Z"
    }
   },
   "outputs": [],
   "source": [
    "BASE_DIR = f\"{os.getcwd()}/../../\"\n",
    "MODEL_EVAL_DIR = BASE_DIR + \"model_eval/\""
   ]
  },
  {
   "cell_type": "code",
   "execution_count": 4,
   "id": "29eee5cf",
   "metadata": {
    "ExecuteTime": {
     "end_time": "2024-07-30T17:13:32.766439Z",
     "start_time": "2024-07-30T17:13:32.527577Z"
    },
    "execution": {
     "iopub.execute_input": "2024-12-15T15:28:37.109568Z",
     "iopub.status.busy": "2024-12-15T15:28:37.109466Z",
     "iopub.status.idle": "2024-12-15T15:28:37.301171Z",
     "shell.execute_reply": "2024-12-15T15:28:37.300771Z",
     "shell.execute_reply.started": "2024-12-15T15:28:37.109558Z"
    }
   },
   "outputs": [],
   "source": [
    "fid_file = \"fid-finetune_data-dataset_opus_eng_fra-timeInterval_10000-timeIntervalType_sentence-finetuneType_base.csv\"\n",
    "fid = pd.read_csv(MODEL_EVAL_DIR + fid_file)"
   ]
  },
  {
   "cell_type": "markdown",
   "id": "83c3850a",
   "metadata": {},
   "source": [
    "## View FID"
   ]
  },
  {
   "cell_type": "markdown",
   "id": "03017db8",
   "metadata": {},
   "source": [
    "### Add deltas"
   ]
  },
  {
   "cell_type": "code",
   "execution_count": 5,
   "id": "e8d6c617",
   "metadata": {
    "ExecuteTime": {
     "end_time": "2024-07-30T17:13:33.088745Z",
     "start_time": "2024-07-30T17:13:33.078186Z"
    },
    "execution": {
     "iopub.execute_input": "2024-12-15T15:28:37.301716Z",
     "iopub.status.busy": "2024-12-15T15:28:37.301607Z",
     "iopub.status.idle": "2024-12-15T15:28:37.339208Z",
     "shell.execute_reply": "2024-12-15T15:28:37.338844Z",
     "shell.execute_reply.started": "2024-12-15T15:28:37.301704Z"
    }
   },
   "outputs": [],
   "source": [
    "for test_set in OPUS_TEST_SETS:\n",
    "    for metric in METRICS:\n",
    "        key = f\"{test_set}_{metric}\"\n",
    "        fid[f\"delta-target_{key}\"] = fid[f\"target_{key}\"] - fid[f\"curr_{key}\"]"
   ]
  },
  {
   "cell_type": "markdown",
   "id": "9fc5181f",
   "metadata": {},
   "source": [
    "### Look for NaN"
   ]
  },
  {
   "cell_type": "code",
   "execution_count": null,
   "id": "81d3c549",
   "metadata": {
    "ExecuteTime": {
     "end_time": "2024-07-30T17:48:16.390990Z",
     "start_time": "2024-07-30T17:48:16.367723Z"
    },
    "execution": {
     "iopub.execute_input": "2024-12-15T15:28:37.339864Z",
     "iopub.status.busy": "2024-12-15T15:28:37.339698Z",
     "iopub.status.idle": "2024-12-15T15:28:37.351429Z",
     "shell.execute_reply": "2024-12-15T15:28:37.351094Z",
     "shell.execute_reply.started": "2024-12-15T15:28:37.339800Z"
    }
   },
   "outputs": [],
   "source": [
    "fid[[\n",
    "    'curr_finetune',\n",
    "    'prev_finetune',\n",
    "    'finetune_delta',\n",
    "    'amount_new_data',\n",
    "    'amount_old_data',\n",
    "    'amount_finetune_data',\n",
    "]]"
   ]
  },
  {
   "cell_type": "code",
   "execution_count": null,
   "id": "3cb59922",
   "metadata": {
    "ExecuteTime": {
     "end_time": "2024-07-30T17:13:33.151881Z",
     "start_time": "2024-07-30T17:13:33.100179Z"
    },
    "execution": {
     "iopub.execute_input": "2024-12-15T15:28:37.352238Z",
     "iopub.status.busy": "2024-12-15T15:28:37.352059Z",
     "iopub.status.idle": "2024-12-15T15:28:37.399425Z",
     "shell.execute_reply": "2024-12-15T15:28:37.398936Z",
     "shell.execute_reply.started": "2024-12-15T15:28:37.352227Z"
    },
    "scrolled": true
   },
   "outputs": [],
   "source": [
    "print(\"Feature name\")\n",
    "print(\"-\"*50)\n",
    "nan_cols = []\n",
    "for col in fid.columns:\n",
    "    nan_count = fid[col].isna().sum()\n",
    "    print(f\"{col}\\t\\t{nan_count}\")\n",
    "    if nan_count > 0:\n",
    "        nan_cols.append(col)"
   ]
  },
  {
   "cell_type": "markdown",
   "id": "ac0b28ee",
   "metadata": {},
   "source": [
    "# Feature correlation"
   ]
  },
  {
   "cell_type": "code",
   "execution_count": null,
   "id": "2e20a930",
   "metadata": {
    "ExecuteTime": {
     "end_time": "2024-07-30T17:13:36.455282Z",
     "start_time": "2024-07-30T17:13:33.153245Z"
    },
    "execution": {
     "iopub.execute_input": "2024-12-15T15:28:37.400080Z",
     "iopub.status.busy": "2024-12-15T15:28:37.399976Z",
     "iopub.status.idle": "2024-12-15T15:28:39.562597Z",
     "shell.execute_reply": "2024-12-15T15:28:39.562013Z",
     "shell.execute_reply.started": "2024-12-15T15:28:37.400068Z"
    },
    "scrolled": true
   },
   "outputs": [],
   "source": [
    "features = (\n",
    "    BASIC_FEATURES \n",
    "    + TARGETS\n",
    ")\n",
    "\n",
    "make_corr(features, fid, \"Feature correlation\")"
   ]
  },
  {
   "cell_type": "markdown",
   "id": "92786be4",
   "metadata": {},
   "source": [
    "# Eval FIPs"
   ]
  },
  {
   "cell_type": "code",
   "execution_count": null,
   "id": "a18bc88a",
   "metadata": {
    "ExecuteTime": {
     "end_time": "2024-07-30T17:13:36.460006Z",
     "start_time": "2024-07-30T17:13:36.457998Z"
    },
    "execution": {
     "iopub.execute_input": "2024-12-15T15:28:39.563343Z",
     "iopub.status.busy": "2024-12-15T15:28:39.563237Z",
     "iopub.status.idle": "2024-12-15T15:28:39.566234Z",
     "shell.execute_reply": "2024-12-15T15:28:39.565927Z",
     "shell.execute_reply.started": "2024-12-15T15:28:39.563332Z"
    }
   },
   "outputs": [],
   "source": [
    "predictors = [\n",
    "    \"lin\",\n",
    "    \"rf\", \n",
    "    \"xgb\",\n",
    "]\n",
    "print(f\"predictors: {predictors}\")"
   ]
  },
  {
   "cell_type": "code",
   "execution_count": 10,
   "id": "7b44379c",
   "metadata": {
    "ExecuteTime": {
     "end_time": "2024-07-30T17:13:36.462657Z",
     "start_time": "2024-07-30T17:13:36.461046Z"
    },
    "execution": {
     "iopub.execute_input": "2024-12-15T15:28:39.569690Z",
     "iopub.status.busy": "2024-12-15T15:28:39.569380Z",
     "iopub.status.idle": "2024-12-15T15:28:39.571987Z",
     "shell.execute_reply": "2024-12-15T15:28:39.571680Z",
     "shell.execute_reply.started": "2024-12-15T15:28:39.569671Z"
    }
   },
   "outputs": [],
   "source": [
    "res_dict = {}\n",
    "feature_imp_dict = {}"
   ]
  },
  {
   "cell_type": "markdown",
   "id": "e8be73b1",
   "metadata": {},
   "source": [
    "## Features dict"
   ]
  },
  {
   "cell_type": "code",
   "execution_count": null,
   "id": "eb9283fe",
   "metadata": {
    "ExecuteTime": {
     "end_time": "2024-07-30T17:13:36.466669Z",
     "start_time": "2024-07-30T17:13:36.463618Z"
    },
    "execution": {
     "iopub.execute_input": "2024-12-15T15:28:39.572529Z",
     "iopub.status.busy": "2024-12-15T15:28:39.572436Z",
     "iopub.status.idle": "2024-12-15T15:28:39.595353Z",
     "shell.execute_reply": "2024-12-15T15:28:39.594958Z",
     "shell.execute_reply.started": "2024-12-15T15:28:39.572519Z"
    },
    "scrolled": true
   },
   "outputs": [],
   "source": [
    "features_dict = {\n",
    "    \"All\": BASIC_FEATURES + SYS_PERF_FEATURES + CONTENT_AWARE_FEATURES,\n",
    "    \"Basic\": BASIC_FEATURES,\n",
    "    \"ContAware\": CONTENT_AWARE_FEATURES,\n",
    "    \"MTQual\": SYS_PERF_FEATURES,\n",
    "    \"Basic-MTQual\": BASIC_FEATURES + SYS_PERF_FEATURES,\n",
    "    \"Basic-ContAware\": BASIC_FEATURES + CONTENT_AWARE_FEATURES,\n",
    "    \"ContAware-no-ngrams\": (\n",
    "        SENT_OVERLAP_FEATURES[\"new_data\"] + EMBEDDING_FEATURES[\"new_data\"]\n",
    "        + SENT_OVERLAP_FEATURES[\"finetune_data\"] + EMBEDDING_FEATURES[\"finetune_data\"]\n",
    "    ),\n",
    "    \"ContAware-MTQual\": CONTENT_AWARE_FEATURES + SYS_PERF_FEATURES,\n",
    "    \"All-kiwi\": BASIC_FEATURES + CONTENT_AWARE_FEATURES + [f for f in SYS_PERF_FEATURES if '-qe' in f],\n",
    "    \"Basic-kiwi\": BASIC_FEATURES + [f for f in SYS_PERF_FEATURES if '-qe' in f],\n",
    "    \"ContAware-kiwi\": CONTENT_AWARE_FEATURES + [f for f in SYS_PERF_FEATURES if '-qe' in f],\n",
    "}\n",
    "print(\"features_dict:\")\n",
    "print(json.dumps(features_dict, indent=4))"
   ]
  },
  {
   "cell_type": "code",
   "execution_count": null,
   "id": "69c0825c",
   "metadata": {
    "ExecuteTime": {
     "end_time": "2024-07-30T17:16:46.045707Z",
     "start_time": "2024-07-30T17:13:36.467460Z"
    },
    "execution": {
     "iopub.execute_input": "2024-12-15T15:28:39.596647Z",
     "iopub.status.busy": "2024-12-15T15:28:39.596346Z",
     "iopub.status.idle": "2024-12-15T15:30:53.973060Z",
     "shell.execute_reply": "2024-12-15T15:30:53.972729Z",
     "shell.execute_reply.started": "2024-12-15T15:28:39.596626Z"
    },
    "scrolled": true
   },
   "outputs": [],
   "source": [
    "for metric in ['comet22-qe']: #[\"comet22\", \"chrf\", \"sacrebleu\", \"comet22-qe\"]:\n",
    "    for test_set in OPUS_TEST_SETS:\n",
    "        target = f'delta-target_{test_set}_{metric}'\n",
    "\n",
    "        eval_FIPs_offline(\n",
    "            target=target, \n",
    "            features_dict=features_dict, \n",
    "            predictors=predictors, \n",
    "            res_dict=res_dict, \n",
    "            feature_imp_dict=feature_imp_dict, \n",
    "            dataset=fid,\n",
    "            dataset_name='opus',\n",
    "            fip_type='specific',\n",
    "            fid_type='normal',\n",
    "            create_plots=False,\n",
    "        )"
   ]
  },
  {
   "cell_type": "markdown",
   "id": "d83feaf1",
   "metadata": {},
   "source": [
    "## Results"
   ]
  },
  {
   "cell_type": "code",
   "execution_count": 13,
   "id": "8bd7baa5",
   "metadata": {
    "ExecuteTime": {
     "end_time": "2024-07-30T17:19:58.543267Z",
     "start_time": "2024-07-30T17:19:58.388280Z"
    },
    "execution": {
     "iopub.execute_input": "2024-12-15T15:35:11.532943Z",
     "iopub.status.busy": "2024-12-15T15:35:11.532549Z",
     "iopub.status.idle": "2024-12-15T15:35:11.553749Z",
     "shell.execute_reply": "2024-12-15T15:35:11.553037Z",
     "shell.execute_reply.started": "2024-12-15T15:35:11.532913Z"
    }
   },
   "outputs": [],
   "source": [
    "results = pd.DataFrame(res_dict).transpose()\n",
    "results['PCC'] = results['test-PCC'] * 100\n",
    "results['MAE'] = results['test-mae']\n",
    "\n",
    "results = results.round({'PCC': 2, 'MAE': 4})"
   ]
  },
  {
   "cell_type": "markdown",
   "id": "4c920bb5",
   "metadata": {},
   "source": [
    "### COMET22"
   ]
  },
  {
   "cell_type": "code",
   "execution_count": null,
   "id": "6cfc53ba",
   "metadata": {
    "ExecuteTime": {
     "end_time": "2024-07-30T17:40:36.160998Z",
     "start_time": "2024-07-30T17:40:36.053639Z"
    },
    "execution": {
     "iopub.execute_input": "2024-12-15T14:48:13.277060Z",
     "iopub.status.busy": "2024-12-15T14:48:13.276800Z",
     "iopub.status.idle": "2024-12-15T14:48:13.893141Z",
     "shell.execute_reply": "2024-12-15T14:48:13.892676Z",
     "shell.execute_reply.started": "2024-12-15T14:48:13.277041Z"
    },
    "scrolled": true
   },
   "outputs": [],
   "source": [
    "get_results_table(\n",
    "    results = results.loc[results.metric=='comet22'],\n",
    "    fid_type = 'normal',\n",
    "    average = False,\n",
    "    single = False,    # whether to return a single table or a table for each predictor\n",
    "    to_latex = True,  # whether to print the table in latex\n",
    ")"
   ]
  },
  {
   "cell_type": "markdown",
   "id": "175dc54d-0f83-45bb-84a0-ee710fc1d484",
   "metadata": {},
   "source": [
    "### chrF"
   ]
  },
  {
   "cell_type": "code",
   "execution_count": null,
   "id": "811dc8da-ca13-4547-ba02-5778a51f6972",
   "metadata": {
    "execution": {
     "iopub.execute_input": "2024-12-15T14:48:54.168360Z",
     "iopub.status.busy": "2024-12-15T14:48:54.168216Z",
     "iopub.status.idle": "2024-12-15T14:48:54.397815Z",
     "shell.execute_reply": "2024-12-15T14:48:54.396447Z",
     "shell.execute_reply.started": "2024-12-15T14:48:54.168345Z"
    }
   },
   "outputs": [],
   "source": [
    "get_results_table(\n",
    "    results = results.loc[results.metric == 'chrf'],\n",
    "    fid_type = 'normal',\n",
    "    average = False,\n",
    "    single = False,    # whether to return a single table or a table for each predictor\n",
    "    to_latex = True,  # whether to print the table in latex\n",
    ")"
   ]
  },
  {
   "cell_type": "markdown",
   "id": "ea168315-e077-4907-9298-4f56b3f202b1",
   "metadata": {},
   "source": [
    "### sacreBLEU"
   ]
  },
  {
   "cell_type": "code",
   "execution_count": null,
   "id": "9880d239-464e-4af9-8075-f24fc67eb180",
   "metadata": {
    "execution": {
     "iopub.execute_input": "2024-12-15T15:03:11.051968Z",
     "iopub.status.busy": "2024-12-15T15:03:11.046689Z",
     "iopub.status.idle": "2024-12-15T15:03:11.346289Z",
     "shell.execute_reply": "2024-12-15T15:03:11.345928Z",
     "shell.execute_reply.started": "2024-12-15T15:03:11.051896Z"
    },
    "scrolled": true
   },
   "outputs": [],
   "source": [
    "get_results_table(\n",
    "    results = results.loc[results.metric == 'sacrebleu'],\n",
    "    fid_type = 'normal',\n",
    "    average = False,\n",
    "    single = False,    # whether to return a single table or a table for each predictor\n",
    "    to_latex = True,  # whether to print the table in latex\n",
    ")"
   ]
  },
  {
   "cell_type": "markdown",
   "id": "1fc73332-f3ca-4daf-a453-0a8d9bbf0331",
   "metadata": {},
   "source": [
    "### comet22-qe"
   ]
  },
  {
   "cell_type": "code",
   "execution_count": null,
   "id": "378362f6-66d3-4249-bd44-7e8f9c843a33",
   "metadata": {
    "execution": {
     "iopub.execute_input": "2024-12-15T15:35:14.607289Z",
     "iopub.status.busy": "2024-12-15T15:35:14.606836Z",
     "iopub.status.idle": "2024-12-15T15:35:14.744554Z",
     "shell.execute_reply": "2024-12-15T15:35:14.743917Z",
     "shell.execute_reply.started": "2024-12-15T15:35:14.607253Z"
    },
    "scrolled": true
   },
   "outputs": [],
   "source": [
    "get_results_table(\n",
    "    results = results.loc[results.metric == 'comet22-qe'],\n",
    "    fid_type = 'normal',\n",
    "    average = False,\n",
    "    single = False,    # whether to return a single table or a table for each predictor\n",
    "    to_latex = True,  # whether to print the table in latex\n",
    ")"
   ]
  }
 ],
 "metadata": {
  "hide_input": false,
  "kernelspec": {
   "display_name": "Python 3 (ipykernel)",
   "language": "python",
   "name": "python3"
  },
  "language_info": {
   "codemirror_mode": {
    "name": "ipython",
    "version": 3
   },
   "file_extension": ".py",
   "mimetype": "text/x-python",
   "name": "python",
   "nbconvert_exporter": "python",
   "pygments_lexer": "ipython3",
   "version": "3.8.18"
  },
  "toc": {
   "base_numbering": 1,
   "nav_menu": {},
   "number_sections": true,
   "sideBar": true,
   "skip_h1_title": false,
   "title_cell": "Table of Contents",
   "title_sidebar": "Contents",
   "toc_cell": false,
   "toc_position": {
    "height": "calc(100% - 180px)",
    "left": "10px",
    "top": "150px",
    "width": "165px"
   },
   "toc_section_display": true,
   "toc_window_display": true
  }
 },
 "nbformat": 4,
 "nbformat_minor": 5
}

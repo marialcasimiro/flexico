{
 "cells": [
  {
   "cell_type": "markdown",
   "id": "68aa505b",
   "metadata": {},
   "source": [
    "# Imports and general definitions"
   ]
  },
  {
   "cell_type": "code",
   "execution_count": 1,
   "id": "d188c373",
   "metadata": {
    "ExecuteTime": {
     "end_time": "2024-08-01T19:41:37.532348Z",
     "start_time": "2024-08-01T19:41:36.765937Z"
    },
    "execution": {
     "iopub.execute_input": "2024-12-13T13:41:34.738878Z",
     "iopub.status.busy": "2024-12-13T13:41:34.738276Z",
     "iopub.status.idle": "2024-12-13T13:41:35.771747Z",
     "shell.execute_reply": "2024-12-13T13:41:35.771390Z",
     "shell.execute_reply.started": "2024-12-13T13:41:34.738843Z"
    }
   },
   "outputs": [],
   "source": [
    "import os\n",
    "import ast\n",
    "\n",
    "import json\n",
    "import matplotlib.pyplot as plt\n",
    "import math\n",
    "import numpy as np\n",
    "import pandas as pd\n",
    "import seaborn as sns"
   ]
  },
  {
   "cell_type": "markdown",
   "id": "008631f9",
   "metadata": {},
   "source": [
    "# Plot settings"
   ]
  },
  {
   "cell_type": "code",
   "execution_count": 2,
   "id": "7e08069c",
   "metadata": {
    "ExecuteTime": {
     "end_time": "2024-08-01T19:41:37.567264Z",
     "start_time": "2024-08-01T19:41:37.533685Z"
    },
    "execution": {
     "iopub.execute_input": "2024-12-13T13:41:35.772858Z",
     "iopub.status.busy": "2024-12-13T13:41:35.772686Z",
     "iopub.status.idle": "2024-12-13T13:41:35.820977Z",
     "shell.execute_reply": "2024-12-13T13:41:35.820591Z",
     "shell.execute_reply.started": "2024-12-13T13:41:35.772846Z"
    }
   },
   "outputs": [],
   "source": [
    "MARKERSIZE=10\n",
    "FONT_SIZE = 18\n",
    "plt.rc('xtick', labelsize=FONT_SIZE)\n",
    "plt.rc('ytick', labelsize=FONT_SIZE)\n",
    "plt.rc('font', size=14)\n",
    "plt.rc('axes', labelsize=FONT_SIZE)\n",
    "\n",
    "%matplotlib widget\n",
    "\n",
    "markers_dict = {\n",
    "    'noFinetune': '',\n",
    "    'finetune@1st': '',\n",
    "    'periodic': '^',\n",
    "    'exponential': '*',\n",
    "    'sentence': 'v',\n",
    "    'reactive': '.',\n",
    "    'random': 'P',\n",
    "    'flexico': 'D',\n",
    "    'optimum': 's',\n",
    "    'opt-1': 's',\n",
    "    'opt-5': 's',\n",
    "}\n",
    "\n",
    "colors = sns.color_palette(n_colors=12, palette='gist_stern')\n",
    "\n",
    "color_palette = {\n",
    "    'noFinetune': colors[0],\n",
    "    'finetune@1st': colors[2],\n",
    "    'random': sns.color_palette(n_colors=10, palette='Oranges'),\n",
    "    'periodic': sns.color_palette(n_colors=10, palette='Blues_r'),\n",
    "    'exponential': sns.color_palette(n_colors=10, palette='Purples_r'),\n",
    "    'sentence': sns.color_palette(n_colors=10, palette='RdPu_r'),\n",
    "    'reactive': sns.color_palette(n_colors=10, palette='Reds'),\n",
    "    'flexico': colors[8],\n",
    "    'optimum': colors[10],\n",
    "    'opt-1': colors[10],\n",
    "    'opt-5': 'black',\n",
    "}"
   ]
  },
  {
   "cell_type": "code",
   "execution_count": null,
   "id": "c4e0a567",
   "metadata": {
    "ExecuteTime": {
     "end_time": "2024-08-01T19:41:37.570625Z",
     "start_time": "2024-08-01T19:41:37.568197Z"
    },
    "execution": {
     "iopub.execute_input": "2024-12-13T13:41:35.821611Z",
     "iopub.status.busy": "2024-12-13T13:41:35.821497Z",
     "iopub.status.idle": "2024-12-13T13:41:35.824441Z",
     "shell.execute_reply": "2024-12-13T13:41:35.824127Z",
     "shell.execute_reply.started": "2024-12-13T13:41:35.821600Z"
    }
   },
   "outputs": [],
   "source": [
    "print(sns.color_palette(palette='cubehelix').as_hex())"
   ]
  },
  {
   "cell_type": "markdown",
   "id": "8d4459db",
   "metadata": {},
   "source": [
    "# Plotting functions"
   ]
  },
  {
   "cell_type": "markdown",
   "id": "547075b1",
   "metadata": {},
   "source": [
    "## get label and color"
   ]
  },
  {
   "cell_type": "code",
   "execution_count": 4,
   "id": "0ae1f4fc",
   "metadata": {
    "ExecuteTime": {
     "end_time": "2024-08-01T19:41:37.577784Z",
     "start_time": "2024-08-01T19:41:37.572244Z"
    },
    "execution": {
     "iopub.execute_input": "2024-12-13T13:41:35.824957Z",
     "iopub.status.busy": "2024-12-13T13:41:35.824856Z",
     "iopub.status.idle": "2024-12-13T13:41:35.830998Z",
     "shell.execute_reply": "2024-12-13T13:41:35.830642Z",
     "shell.execute_reply.started": "2024-12-13T13:41:35.824945Z"
    }
   },
   "outputs": [],
   "source": [
    "def get_label_color_marker(target, num_adaptations=None):\n",
    "    \n",
    "    color = None\n",
    "    marker = None\n",
    "    if 'nop' in target or 'noFinetune' in target or 'no_finetune' in target:\n",
    "        label = \"No finetune\"\n",
    "    elif 'finetune@1st' in target:\n",
    "        label = \"Finetune@1st\"\n",
    "    elif 'reactive' in target:\n",
    "        marker = markers_dict['random']\n",
    "        if \"-\" in target:\n",
    "            react_threshold = int(target.split(\"-\")[1])\n",
    "            color = color_palette['reactive'][int(react_threshold%10)]\n",
    "            label = f'Reactive-{react_threshold}'\n",
    "        else:\n",
    "            color = color_palette['reactive'][5]\n",
    "            label = 'Reactive-85'\n",
    "    elif 'exponential' in target:\n",
    "        marker = markers_dict['exponential']\n",
    "        if \"-\" in target:\n",
    "            base = int(target.split(\"-\")[1])\n",
    "            color = color_palette['exponential'][base]\n",
    "            label = f'Exponential-{base}'\n",
    "        else:\n",
    "            color = color_palette['exponential'][2]\n",
    "            label = 'Exponential-2'\n",
    "    elif 'opt-5' in target:\n",
    "        label = f'Optimum '\n",
    "    elif 'optimum' in target:\n",
    "        label = 'Perfect FIP'\n",
    "    elif \"flexico\" in target:\n",
    "        label = 'Flexico'\n",
    "    elif 'random' in target:\n",
    "        marker = markers_dict['random']\n",
    "        if \"-\" in target:\n",
    "            prob = int(target.split(\"-\")[1])\n",
    "            color = color_palette['random'][int(prob/10)]\n",
    "            label = f'Random-{prob}'\n",
    "        else:\n",
    "            color = color_palette['random'][5]\n",
    "            label = 'Random-50'\n",
    "    elif 'sentence' in target:\n",
    "        marker = markers_dict['sentence']\n",
    "        if \"-\" in target:\n",
    "            num_sents = int(target.split(\"-\")[1])\n",
    "            color = color_palette['sentence'][int(num_sents/1000)]\n",
    "            label = f'Sentence-{num_sents}'\n",
    "        else:\n",
    "            color = color_palette['sentence'][0]\n",
    "            label = 'Sentence-1000'\n",
    "    else:\n",
    "        marker = markers_dict['periodic']\n",
    "        if \"-\" in target:\n",
    "            period = int(target.split(\"-\")[1])\n",
    "            color = color_palette['periodic'][period-1]\n",
    "            label = f'Periodic-{period}'\n",
    "        else:\n",
    "            color = color_palette['periodic'][0]\n",
    "            label = 'Periodic-1'\n",
    "    \n",
    "    if num_adaptations is not None:\n",
    "         label = label + f\" ({num_adaptations})\"\n",
    "    \n",
    "    if color is None:\n",
    "        color = color_palette[target]\n",
    "    if marker is None:\n",
    "        marker = markers_dict[target]\n",
    "                \n",
    "    return label, color, marker"
   ]
  },
  {
   "cell_type": "markdown",
   "id": "e503e68e",
   "metadata": {},
   "source": [
    "## Heatmap"
   ]
  },
  {
   "cell_type": "code",
   "execution_count": 5,
   "id": "12aa4589",
   "metadata": {
    "ExecuteTime": {
     "end_time": "2024-08-01T19:41:37.582055Z",
     "start_time": "2024-08-01T19:41:37.578644Z"
    },
    "execution": {
     "iopub.execute_input": "2024-12-13T13:41:35.832554Z",
     "iopub.status.busy": "2024-12-13T13:41:35.832428Z",
     "iopub.status.idle": "2024-12-13T13:41:35.837299Z",
     "shell.execute_reply": "2024-12-13T13:41:35.836625Z",
     "shell.execute_reply.started": "2024-12-13T13:41:35.832542Z"
    }
   },
   "outputs": [],
   "source": [
    "def plot_heatmap(\n",
    "    finetune_costs: list, \n",
    "    delta_thresholds: list,\n",
    "    data: pd.DataFrame, \n",
    "    targets: list, \n",
    "    normalize: bool = False,\n",
    "):\n",
    "    \n",
    "    cmap = sns.cubehelix_palette(start=0, rot=0.5, as_cmap=True)\n",
    "    \n",
    "    cmap = 'magma_r'\n",
    "\n",
    "    fig_size = 10\n",
    "    fig, axs = plt.subplots(int(len(targets)/2), 2, figsize=(fig_size, fig_size))\n",
    "        \n",
    "    if axs.ndim > 1:\n",
    "        axes = [sub_ax for ax in axs for sub_ax in ax]\n",
    "    else:\n",
    "        axes = [ax for ax in axs]\n",
    "        \n",
    "    if normalize:\n",
    "        values = 'normalized_totalCost'\n",
    "    else:\n",
    "        values = 'totalCost'  # 'totalCost-avg'\n",
    "        \n",
    "    for baseline, ax in zip(targets, axes):\n",
    "        print(baseline)\n",
    "        plot_data = data.loc[\n",
    "            (data.baseline == baseline)\n",
    "            & (data.deltaT.isin(delta_thresholds))\n",
    "            & (data.finetuneCost.isin(finetune_costs))\n",
    "        ].copy()\n",
    "        \n",
    "        vmax = plot_data[values].max()\n",
    "        \n",
    "        sns.heatmap(\n",
    "            plot_data.pivot(index='finetuneCost', columns='deltaT', values=values),\n",
    "            fmt='.0f',\n",
    "            ax=ax,\n",
    "            annot=True, annot_kws={'rotation': 30},\n",
    "            cmap=cmap, cbar=False, cbar_kws={\"shrink\": .5},\n",
    "#             vmin=1, vmax=vmax,\n",
    "        )\n",
    "        ax.invert_yaxis()\n",
    "        ax.set_title(f'{baseline}')\n",
    "        ax.set_ylabel(\"Finetune cost\")\n",
    "        ax.set_xlabel(\"Delta threshold\")\n",
    "        \n",
    "    plt.tight_layout()\n"
   ]
  },
  {
   "cell_type": "markdown",
   "id": "0bdc2498",
   "metadata": {},
   "source": [
    "## Bar plot"
   ]
  },
  {
   "cell_type": "code",
   "execution_count": 27,
   "id": "58d85fe7",
   "metadata": {
    "ExecuteTime": {
     "end_time": "2024-08-01T19:41:55.915115Z",
     "start_time": "2024-08-01T19:41:55.903180Z"
    },
    "execution": {
     "iopub.execute_input": "2024-12-13T14:22:01.658015Z",
     "iopub.status.busy": "2024-12-13T14:22:01.657761Z",
     "iopub.status.idle": "2024-12-13T14:22:01.672115Z",
     "shell.execute_reply": "2024-12-13T14:22:01.671200Z",
     "shell.execute_reply.started": "2024-12-13T14:22:01.657999Z"
    }
   },
   "outputs": [],
   "source": [
    "def _compute_week_day_avg(row):\n",
    "    avg = 0\n",
    "    week_adaptations = ast.literal_eval(row['adaptationsWeekDay'])\n",
    "    if not isinstance(week_adaptations[0], list):\n",
    "        week_adaptations = [week_adaptations]\n",
    "\n",
    "    total_adaptations = ast.literal_eval(row['totalAdaptations'])\n",
    "    if not isinstance(total_adaptations, list):\n",
    "        total_adaptations = [total_adaptations]\n",
    "\n",
    "    for week, total in zip(week_adaptations, total_adaptations):\n",
    "        if int(total):\n",
    "            avg += float(sum(week) / int(total))\n",
    "\n",
    "    return avg / len(week_adaptations)\n",
    "    \n",
    "def plot_bar(    \n",
    "    finetune_costs: list, \n",
    "    delta_thresholds: list,\n",
    "    data: pd.DataFrame,\n",
    "    targets: list, \n",
    "    y_col: str = 'totalCost',\n",
    "):\n",
    "#     fig_len = 8\n",
    "#     fig_height = 4*len(finetune_costs)\n",
    "#     fig, axs = plt.subplots(len(finetune_costs), 1, figsize=(fig_len, fig_height))\n",
    "    \n",
    "#     if len(finetune_costs) == 1:\n",
    "#         axes = [axs]\n",
    "#     elif axs.ndim > 1:\n",
    "#         axes = [sub_ax for ax in axs for sub_ax in ax]\n",
    "#     else:\n",
    "#         axes = [ax for ax in axs]\n",
    "        \n",
    "    colors = []\n",
    "    labels = []\n",
    "    for target in targets:\n",
    "        label, color, _ = get_label_color_marker(target, None)\n",
    "        colors.append(color)\n",
    "        labels.append(label)\n",
    "\n",
    "    if 'WeekDay' in y_col:\n",
    "        data['avg-weekDay'] = data.apply(\n",
    "            lambda x: float(sum(ast.literal_eval(x['adaptationsWeekDay'])) / x['totalAdaptations']) if x['totalAdaptations'] else 0.0,  #_compute_week_day_avg(x),\n",
    "            axis = 1,\n",
    "        )\n",
    "        y_col = 'avg-weekDay'\n",
    "        \n",
    "\n",
    "#     for fc, ax in zip(finetune_costs, axes):\n",
    "    for fc in finetune_costs:\n",
    "        \n",
    "        fig, ax = plt.subplots(1, 1, figsize=(8, 5))\n",
    "        \n",
    "        if fc == -1:\n",
    "            plot_data = data.loc[\n",
    "                (data.baseline.isin(targets))\n",
    "                & (data.deltaT.isin(delta_thresholds))\n",
    "            ].copy()\n",
    "\n",
    "        else:\n",
    "            plot_data = data.loc[\n",
    "                (data.finetuneCost == fc)\n",
    "                & (data.baseline.isin(targets))\n",
    "                & (data.deltaT.isin(delta_thresholds))\n",
    "            ].copy()\n",
    "\n",
    "        \n",
    "        sns_plot = sns.barplot(\n",
    "            data=plot_data,\n",
    "            x='deltaT',\n",
    "            y=y_col,\n",
    "            hue='baseline',\n",
    "#             kind='bar',\n",
    "            ax=ax,\n",
    "            hue_order=targets,\n",
    "            palette=colors#,_palette,\n",
    "        )\n",
    "        \n",
    "        # ax.set_title(f'Finetune Cost = {fc}', y=1.28)\n",
    "        if 'totalCost' in y_col:\n",
    "            ax.set_ylabel(\"Total cost\")\n",
    "        elif 'totalAdaptations' in y_col:\n",
    "            ax.set_ylabel(\"#fine-tunings\")\n",
    "        elif 'weekDay' in y_col:\n",
    "            ax.set_ylabel(\"Avg adaptation week day\")\n",
    "        ax.set_xlabel(\"Delta threshold\")\n",
    "#         ax.set_yscale('log')\n",
    "        \n",
    "#         if fc == finetune_costs[0]:\n",
    "        ax.legend(\n",
    "            loc='upper right', \n",
    "            bbox_to_anchor=(1.0, 1.35),\n",
    "            ncol=3,\n",
    "            frameon=False,\n",
    "        )\n",
    "#         else:\n",
    "#             ax.legend_.remove()\n",
    "        \n",
    "        # rename each baseline\n",
    "        for t, l in zip(sns_plot.legend_.texts, labels):\n",
    "            t.set_text(l)\n",
    "            \n",
    "        # add num_adaptations on top of each bar\n",
    "#         num_adaptations_dict = {}\n",
    "#         for baseline in plot_data.baseline.unique():\n",
    "#             num_adaptations_dict[baseline] = []\n",
    "#             for delta in plot_data.deltaT.unique():\n",
    "#                 num_adaptations_dict[baseline].append(sum(ast.literal_eval(\n",
    "#                     plot_data.loc[\n",
    "#                         (plot_data.baseline == baseline)\n",
    "#                         & (plot_data.deltaT == delta)\n",
    "#                     ]['adaptations'].to_numpy()[0])\n",
    "#                 ))\n",
    "#         for container in ax.containers:\n",
    "#             ax.bar_label(\n",
    "#                 container, \n",
    "#                 labels=num_adaptations_dict[container.get_label()]\n",
    "#             )\n",
    "        \n",
    "        plt.tight_layout()\n",
    "        if 'totalCost' in y_col:\n",
    "            fig_name = f\"hk_news-scenarioB-sys_u-fc_{fc}-{len(delta_thresholds)}_deltas.png\"\n",
    "        else:\n",
    "            fig_name = f\"hk_news-scenarioB-{y_col}_u-fc_{fc}-{len(delta_thresholds)}_deltas.png\"\n",
    "\n",
    "        plt.savefig(fig_name, format='png', dpi=1200, bbox_inches='tight', pad_inches=0.01)\n"
   ]
  },
  {
   "cell_type": "markdown",
   "id": "e4406b16",
   "metadata": {},
   "source": [
    "## Line Plot"
   ]
  },
  {
   "cell_type": "code",
   "execution_count": 7,
   "id": "9a207e53",
   "metadata": {
    "ExecuteTime": {
     "end_time": "2024-08-01T19:41:37.592206Z",
     "start_time": "2024-08-01T19:41:37.588510Z"
    },
    "execution": {
     "iopub.execute_input": "2024-12-13T13:41:35.850665Z",
     "iopub.status.busy": "2024-12-13T13:41:35.850020Z",
     "iopub.status.idle": "2024-12-13T13:41:35.855199Z",
     "shell.execute_reply": "2024-12-13T13:41:35.854858Z",
     "shell.execute_reply.started": "2024-12-13T13:41:35.850646Z"
    }
   },
   "outputs": [],
   "source": [
    "def plot_res(\n",
    "    finetune_cost: int, \n",
    "    delta_threshold: float,\n",
    "    data: pd.DataFrame, \n",
    "    targets: list,\n",
    "    y_axis: str = 'cost',\n",
    "    title = None,    \n",
    "):\n",
    "    \n",
    "    all_results = data.loc[\n",
    "        (data.deltaT == delta_threshold)\n",
    "#         & (data.finetuneCost == finetune_cost)\n",
    "    ]\n",
    "    \n",
    "    fig, ax = plt.subplots()\n",
    "    counter = 1\n",
    "    for target in targets:\n",
    "        results = all_results.loc[\n",
    "            all_results.baseline == target\n",
    "        ]\n",
    "        y = ast.literal_eval(results[y_axis].to_numpy()[0])\n",
    "        \n",
    "        print(f\"{target}: {len(y)}\")\n",
    "        \n",
    "        finetunings = ast.literal_eval(results['adaptations'].to_numpy()[0])\n",
    "        \n",
    "        label, color, marker = get_label_color_marker(target, sum(finetunings))\n",
    "\n",
    "        marker_on = []\n",
    "        if 'nop' not in target or 'noFinetune' not in target or 'no_finetune' not in target:\n",
    "            marker_on = finetunings\n",
    "\n",
    "        linestyle = 'solid'\n",
    "        x = list(range(len(y)))\n",
    "        if 'cost' in y_axis:\n",
    "            y = np.cumsum(y)\n",
    "        ax.plot(\n",
    "            x, y, label=label, color=color, linestyle=linestyle,\n",
    "            markevery=marker_on, markersize=MARKERSIZE, marker=marker, \n",
    "        )\n",
    "        counter += 1\n",
    "\n",
    "\n",
    "    ax.set(xlabel='Time', ylabel=y_axis)\n",
    "    ax.legend(\n",
    "        loc='best', \n",
    "        ncol=1,\n",
    "    )\n",
    "    ax.grid()\n",
    "    if title is not None:\n",
    "        ax.set_title(title)"
   ]
  },
  {
   "cell_type": "markdown",
   "id": "606b35f7",
   "metadata": {},
   "source": [
    "## FIP accuracy"
   ]
  },
  {
   "cell_type": "code",
   "execution_count": 8,
   "id": "e364c56b",
   "metadata": {
    "ExecuteTime": {
     "end_time": "2024-08-01T19:41:37.597537Z",
     "start_time": "2024-08-01T19:41:37.592989Z"
    },
    "execution": {
     "iopub.execute_input": "2024-12-13T13:41:35.855804Z",
     "iopub.status.busy": "2024-12-13T13:41:35.855706Z",
     "iopub.status.idle": "2024-12-13T13:41:35.862534Z",
     "shell.execute_reply": "2024-12-13T13:41:35.862174Z",
     "shell.execute_reply.started": "2024-12-13T13:41:35.855793Z"
    }
   },
   "outputs": [],
   "source": [
    "def scatter_plot(real: np.ndarray, pred: np.ndarray, title: str):\n",
    "    fig, ax = plt.subplots()\n",
    "    \n",
    "    ax.scatter(real, pred, label=\"linear-reg\")\n",
    "    \n",
    "    lims = [\n",
    "        np.min([ax.get_xlim(), ax.get_ylim()]),  # min of both axes\n",
    "        np.max([ax.get_xlim(), ax.get_ylim()]),  # max of both axes\n",
    "    ]\n",
    "\n",
    "    # now plot both limits against eachother\n",
    "    ax.plot(lims, lims, ':', alpha=0.75, zorder=0, label=\"optimum\", color=\"black\")\n",
    "    ax.set_aspect('equal')\n",
    "    ax.set_xlim(lims)\n",
    "    ax.set_ylim(lims)\n",
    "    \n",
    "    ax.set(xlabel='Real', ylabel='Predicted')\n",
    "    ax.legend(loc='best')\n",
    "    ax.grid()\n",
    "    \n",
    "    ax.set_title(title)\n",
    "    plt.show()\n",
    "    "
   ]
  },
  {
   "cell_type": "markdown",
   "id": "8edc79da",
   "metadata": {},
   "source": [
    "# Load data"
   ]
  },
  {
   "cell_type": "code",
   "execution_count": 9,
   "id": "ec8f9ad8",
   "metadata": {
    "ExecuteTime": {
     "end_time": "2024-08-01T19:41:37.599798Z",
     "start_time": "2024-08-01T19:41:37.598389Z"
    },
    "execution": {
     "iopub.execute_input": "2024-12-13T13:41:35.864917Z",
     "iopub.status.busy": "2024-12-13T13:41:35.864188Z",
     "iopub.status.idle": "2024-12-13T13:41:35.867602Z",
     "shell.execute_reply": "2024-12-13T13:41:35.867213Z",
     "shell.execute_reply.started": "2024-12-13T13:41:35.864838Z"
    }
   },
   "outputs": [],
   "source": [
    "BASE_DIR = f\"{os.getcwd()}/../../\"\n",
    "RESULTS_DIR = BASE_DIR + \"src/framework/framework_results/\""
   ]
  },
  {
   "cell_type": "code",
   "execution_count": 10,
   "id": "6b5c1e1a",
   "metadata": {
    "ExecuteTime": {
     "end_time": "2024-08-03T01:53:19.912625Z",
     "start_time": "2024-08-03T01:53:19.822592Z"
    },
    "execution": {
     "iopub.execute_input": "2024-12-13T13:41:35.868246Z",
     "iopub.status.busy": "2024-12-13T13:41:35.868151Z",
     "iopub.status.idle": "2024-12-13T13:41:36.003438Z",
     "shell.execute_reply": "2024-12-13T13:41:36.003031Z",
     "shell.execute_reply.started": "2024-12-13T13:41:35.868236Z"
    }
   },
   "outputs": [],
   "source": [
    "baselines = pd.read_csv(\n",
    "    RESULTS_DIR + \"adaptiveMT-topicWeights-dataset_hk-news-prism_False.csv\"\n",
    ")\n",
    "\n",
    "flexico = pd.read_csv(\n",
    "    RESULTS_DIR + \"adaptiveMT-flexico-dataset_hk-news-prism_True-topicWeights.csv\"\n",
    ")\n",
    "\n",
    "opt = pd.read_csv(\n",
    "    RESULTS_DIR + \"optimum_baseline-dataset_hk-news-default_nop-topicWeights_real_delayed.csv\"\n",
    ")"
   ]
  },
  {
   "cell_type": "code",
   "execution_count": 11,
   "id": "c75d600d-d512-4e29-9a43-f6b4a871ee82",
   "metadata": {
    "execution": {
     "iopub.execute_input": "2024-12-13T13:41:36.004168Z",
     "iopub.status.busy": "2024-12-13T13:41:36.004064Z",
     "iopub.status.idle": "2024-12-13T13:41:36.009067Z",
     "shell.execute_reply": "2024-12-13T13:41:36.008720Z",
     "shell.execute_reply.started": "2024-12-13T13:41:36.004157Z"
    }
   },
   "outputs": [],
   "source": [
    "res = pd.concat(\n",
    "    [\n",
    "        baselines.loc[\n",
    "            (baselines.fipFeatureSet == 'all')\n",
    "            | (baselines.fipFeatureSet == 'None')\n",
    "        ], \n",
    "        opt\n",
    "    ], \n",
    "    ignore_index=True\n",
    ")"
   ]
  },
  {
   "cell_type": "code",
   "execution_count": null,
   "id": "7927057f-753e-446a-a112-642bd84bc62b",
   "metadata": {
    "execution": {
     "iopub.execute_input": "2024-12-13T13:41:36.009660Z",
     "iopub.status.busy": "2024-12-13T13:41:36.009555Z",
     "iopub.status.idle": "2024-12-13T13:41:36.012615Z",
     "shell.execute_reply": "2024-12-13T13:41:36.012322Z",
     "shell.execute_reply.started": "2024-12-13T13:41:36.009649Z"
    },
    "scrolled": true
   },
   "outputs": [],
   "source": [
    "res.columns"
   ]
  },
  {
   "cell_type": "code",
   "execution_count": null,
   "id": "0f25ca1b-c3e2-4cc8-804c-5778f971e8ec",
   "metadata": {
    "execution": {
     "iopub.execute_input": "2024-12-13T14:13:14.440749Z",
     "iopub.status.busy": "2024-12-13T14:13:14.440218Z",
     "iopub.status.idle": "2024-12-13T14:13:14.466670Z",
     "shell.execute_reply": "2024-12-13T14:13:14.466153Z",
     "shell.execute_reply.started": "2024-12-13T14:13:14.440649Z"
    }
   },
   "outputs": [],
   "source": [
    "res.loc[\n",
    "    (res.baseline.isin(['flexico', 'periodic-2']))\n",
    "    & (res.finetuneCost == 1)\n",
    "    & (res.deltaT.isin([0.2, 0.4, 0.6, 0.8, 1.0]))\n",
    "][[\n",
    "    'runID', 'baseline', 'finetuneCostType', 'finetuneCost', 'deltaT',\n",
    "       'fipTargetMetrics', 'fipModel', 'fidType', 'fipFeatureSet', 'totalAdaptations', 'totalCost',\n",
    "]]"
   ]
  },
  {
   "cell_type": "markdown",
   "id": "53bfe319",
   "metadata": {},
   "source": [
    "# Normalize totalCost to optimum"
   ]
  },
  {
   "cell_type": "code",
   "execution_count": null,
   "id": "0556bb54-1f54-4376-b526-b2bb945f930e",
   "metadata": {
    "execution": {
     "iopub.execute_input": "2024-12-13T13:41:36.028187Z",
     "iopub.status.busy": "2024-12-13T13:41:36.028039Z",
     "iopub.status.idle": "2024-12-13T13:41:36.032451Z",
     "shell.execute_reply": "2024-12-13T13:41:36.031882Z",
     "shell.execute_reply.started": "2024-12-13T13:41:36.028173Z"
    }
   },
   "outputs": [],
   "source": [
    "res.baseline.unique()"
   ]
  },
  {
   "cell_type": "code",
   "execution_count": 15,
   "id": "1c22d730",
   "metadata": {
    "ExecuteTime": {
     "end_time": "2024-08-01T19:41:37.621891Z",
     "start_time": "2024-08-01T19:41:37.617646Z"
    },
    "execution": {
     "iopub.execute_input": "2024-12-13T13:41:36.033463Z",
     "iopub.status.busy": "2024-12-13T13:41:36.033294Z",
     "iopub.status.idle": "2024-12-13T13:41:36.040950Z",
     "shell.execute_reply": "2024-12-13T13:41:36.040236Z",
     "shell.execute_reply.started": "2024-12-13T13:41:36.033450Z"
    }
   },
   "outputs": [],
   "source": [
    "# Function to normalize totalCost for 'baseline' based on 'optimum'\n",
    "def normalize_total_cost(\n",
    "    df: pd.DataFrame,\n",
    "):\n",
    "    # Get unique combinations of fc and dt\n",
    "    unique_combinations = df[['finetuneCost', 'deltaT']].drop_duplicates()\n",
    "    \n",
    "    # Get unique baselines excluding 'optimum'\n",
    "    baselines = df['baseline'].unique()\n",
    "    \n",
    "    # Normalize totalCost for each unique combination of fc and dt\n",
    "    normalized_data = []\n",
    "    \n",
    "    for _, row in unique_combinations.iterrows():\n",
    "        fc_value = row['finetuneCost']\n",
    "        dt_value = row['deltaT']\n",
    "        \n",
    "        # Filter rows based on fc and dt\n",
    "        subset = df[(df['finetuneCost'] == fc_value) & (df['deltaT'] == dt_value)]\n",
    "        \n",
    "        # Get the totalCost for 'optimum'\n",
    "        optimum_costs = subset[subset['baseline'] == 'opt-5']['totalCost'].values\n",
    "        \n",
    "        if len(optimum_costs) > 0:  # Ensure there is at least one optimum cost to normalize by\n",
    "            optimum_cost = optimum_costs[0]\n",
    "            \n",
    "            for baseline in baselines:\n",
    "                # Get the totalCost for the current baseline\n",
    "                baseline_costs = subset[subset['baseline'] == baseline]['totalCost'].values\n",
    "                \n",
    "                # Normalize baseline costs based on optimum cost\n",
    "                normalized_baseline_costs = baseline_costs / optimum_cost\n",
    "                \n",
    "                # Append normalized costs to the results\n",
    "                for cost in normalized_baseline_costs:\n",
    "                    normalized_data.append({\n",
    "                        'finetuneCost': fc_value,\n",
    "                        'deltaT': dt_value,\n",
    "                        'baseline': baseline,\n",
    "                        'normalized_totalCost': cost\n",
    "                    })\n",
    "        else:\n",
    "            for baseline in baselines:\n",
    "                # If no optimum cost, keep the original baseline cost\n",
    "                baseline_costs = subset[subset['baseline'] == baseline]['totalCost'].values\n",
    "                for cost in baseline_costs:\n",
    "                    normalized_data.append({\n",
    "                        'finetuneCost': fc_value,\n",
    "                        'deltaT': dt_value,\n",
    "                        'baseline': baseline,\n",
    "                        'normalized_totalCost': cost\n",
    "                    })\n",
    "\n",
    "    return pd.DataFrame(normalized_data)\n"
   ]
  },
  {
   "cell_type": "code",
   "execution_count": 16,
   "id": "d6867cb3",
   "metadata": {
    "ExecuteTime": {
     "end_time": "2024-08-01T19:41:37.624143Z",
     "start_time": "2024-08-01T19:41:37.622787Z"
    },
    "execution": {
     "iopub.execute_input": "2024-12-13T13:41:36.042243Z",
     "iopub.status.busy": "2024-12-13T13:41:36.041790Z",
     "iopub.status.idle": "2024-12-13T13:41:36.253309Z",
     "shell.execute_reply": "2024-12-13T13:41:36.252914Z",
     "shell.execute_reply.started": "2024-12-13T13:41:36.042229Z"
    }
   },
   "outputs": [],
   "source": [
    "# # Apply the normalization function\n",
    "normalized_df = normalize_total_cost(\n",
    "    res.loc[res['topicWeightType'] == 'delayed']\n",
    ")\n",
    "\n",
    "# # Merge the normalized values back into the original DataFrame\n",
    "# res = res.merge(normalized_df, on=['finetuneCost', 'deltaT', 'baseline'], how='left')"
   ]
  },
  {
   "cell_type": "markdown",
   "id": "0b5e9150-1b0d-41bc-8707-9a766edcc1a2",
   "metadata": {},
   "source": [
    "# PRISM latency analysis"
   ]
  },
  {
   "cell_type": "code",
   "execution_count": 17,
   "id": "bf4a679d-8e21-4951-8416-d895748ad44b",
   "metadata": {
    "execution": {
     "iopub.execute_input": "2024-12-13T13:41:36.253868Z",
     "iopub.status.busy": "2024-12-13T13:41:36.253761Z",
     "iopub.status.idle": "2024-12-13T13:41:36.386965Z",
     "shell.execute_reply": "2024-12-13T13:41:36.386598Z",
     "shell.execute_reply.started": "2024-12-13T13:41:36.253857Z"
    }
   },
   "outputs": [],
   "source": [
    "flexico['prismLatency-avg'] = flexico.apply(\n",
    "    lambda row : np.mean(ast.literal_eval(row['formalVerificationLatencies'])),\n",
    "    axis = 1,\n",
    ")\n",
    "\n",
    "flexico['prismLatency-95th'] = flexico.apply(\n",
    "    lambda row : np.percentile(ast.literal_eval(row['formalVerificationLatencies']), 95),\n",
    "    axis = 1,\n",
    ")\n",
    "\n",
    "flexico['prismLatency-99th'] = flexico.apply(\n",
    "    lambda row : np.percentile(ast.literal_eval(row['formalVerificationLatencies']), 99),\n",
    "    axis = 1,\n",
    ")\n",
    "\n",
    "flexico['mapeLatencies-avg'] = flexico.apply(\n",
    "    lambda row : np.mean(ast.literal_eval(row['mapeLatencies'])),\n",
    "    axis = 1,\n",
    ")\n",
    "\n",
    "flexico['mapeLatencies-95th'] = flexico.apply(\n",
    "    lambda row : np.percentile(ast.literal_eval(row['mapeLatencies']), 95),\n",
    "    axis = 1,\n",
    ")\n",
    "\n",
    "flexico['mapeLatencies-99th'] = flexico.apply(\n",
    "    lambda row : np.percentile(ast.literal_eval(row['mapeLatencies']), 99),\n",
    "    axis = 1,\n",
    ")"
   ]
  },
  {
   "cell_type": "code",
   "execution_count": null,
   "id": "9ab67010-9cc0-48d1-a352-db8163e932c6",
   "metadata": {
    "execution": {
     "iopub.execute_input": "2024-12-13T13:41:36.387597Z",
     "iopub.status.busy": "2024-12-13T13:41:36.387495Z",
     "iopub.status.idle": "2024-12-13T13:41:36.398274Z",
     "shell.execute_reply": "2024-12-13T13:41:36.397927Z",
     "shell.execute_reply.started": "2024-12-13T13:41:36.387585Z"
    }
   },
   "outputs": [],
   "source": [
    "flexico.loc[\n",
    "    flexico['topicWeightType'] == 'delayed'\n",
    "][[\n",
    "    'prismLatency-avg',\n",
    "    'prismLatency-95th',\n",
    "    'prismLatency-99th',\n",
    "    'mapeLatencies-avg',\n",
    "    'mapeLatencies-95th',\n",
    "    'mapeLatencies-99th',\n",
    "]].describe()"
   ]
  },
  {
   "cell_type": "code",
   "execution_count": null,
   "id": "c34e4634-222c-48e4-80c0-f72cd043c4aa",
   "metadata": {
    "execution": {
     "iopub.execute_input": "2024-12-13T13:41:36.398824Z",
     "iopub.status.busy": "2024-12-13T13:41:36.398723Z",
     "iopub.status.idle": "2024-12-13T13:41:36.409009Z",
     "shell.execute_reply": "2024-12-13T13:41:36.408671Z",
     "shell.execute_reply.started": "2024-12-13T13:41:36.398813Z"
    }
   },
   "outputs": [],
   "source": [
    "flexico[[\n",
    "    'prismLatency-avg',\n",
    "    'prismLatency-95th',\n",
    "    'prismLatency-99th',\n",
    "    'mapeLatencies-avg',\n",
    "    'mapeLatencies-95th',\n",
    "    'mapeLatencies-99th',\n",
    "]].describe()"
   ]
  },
  {
   "cell_type": "markdown",
   "id": "3e907c6b",
   "metadata": {},
   "source": [
    "# Plot results"
   ]
  },
  {
   "cell_type": "markdown",
   "id": "18120a97",
   "metadata": {},
   "source": [
    "## Baselines"
   ]
  },
  {
   "cell_type": "code",
   "execution_count": null,
   "id": "3215d870",
   "metadata": {
    "ExecuteTime": {
     "end_time": "2024-08-03T01:58:19.573804Z",
     "start_time": "2024-08-03T01:58:19.566191Z"
    },
    "execution": {
     "iopub.execute_input": "2024-12-13T13:41:36.409648Z",
     "iopub.status.busy": "2024-12-13T13:41:36.409543Z",
     "iopub.status.idle": "2024-12-13T13:41:36.412849Z",
     "shell.execute_reply": "2024-12-13T13:41:36.412276Z",
     "shell.execute_reply.started": "2024-12-13T13:41:36.409638Z"
    },
    "scrolled": true
   },
   "outputs": [],
   "source": [
    "baselines.baseline.unique()"
   ]
  },
  {
   "cell_type": "markdown",
   "id": "6200dfc4",
   "metadata": {},
   "source": [
    "## Line plots"
   ]
  },
  {
   "cell_type": "code",
   "execution_count": null,
   "id": "2dc41496",
   "metadata": {
    "ExecuteTime": {
     "end_time": "2024-08-03T01:58:23.570930Z",
     "start_time": "2024-08-03T01:58:23.488869Z"
    },
    "execution": {
     "iopub.execute_input": "2024-12-13T13:41:36.414282Z",
     "iopub.status.busy": "2024-12-13T13:41:36.414054Z",
     "iopub.status.idle": "2024-12-13T13:41:36.516230Z",
     "shell.execute_reply": "2024-12-13T13:41:36.514822Z",
     "shell.execute_reply.started": "2024-12-13T13:41:36.414270Z"
    }
   },
   "outputs": [],
   "source": [
    "plot_res(\n",
    "    finetune_cost=10,\n",
    "    delta_threshold=0.5,\n",
    "    data=res.loc[res['topicWeightType'] == 'delayed'], \n",
    "    targets=[\n",
    "        'periodic-2',\n",
    "        'reactive-85',\n",
    "#         'random',\n",
    "        'exponential',\n",
    "        'flexico',\n",
    "        'opt-5',\n",
    "    ],\n",
    "    title = None\n",
    ")"
   ]
  },
  {
   "cell_type": "code",
   "execution_count": null,
   "id": "581d0c8e-02c9-4204-9fbb-5d397f43b776",
   "metadata": {
    "execution": {
     "iopub.execute_input": "2024-12-13T13:41:36.517504Z",
     "iopub.status.busy": "2024-12-13T13:41:36.517384Z",
     "iopub.status.idle": "2024-12-13T13:41:36.615149Z",
     "shell.execute_reply": "2024-12-13T13:41:36.614353Z",
     "shell.execute_reply.started": "2024-12-13T13:41:36.517489Z"
    }
   },
   "outputs": [],
   "source": [
    "plot_res(\n",
    "    finetune_cost=10,\n",
    "    delta_threshold=0.5,\n",
    "    data=res.loc[res['topicWeightType'] == 'delayed'], \n",
    "    targets=[\n",
    "        'periodic-2',\n",
    "        'reactive-85',\n",
    "#         'random',\n",
    "        'exponential',\n",
    "        'flexico',\n",
    "        'opt-5',\n",
    "    ],\n",
    "    title = None,\n",
    "    y_axis = 'adaptationsWeekDay',\n",
    ")"
   ]
  },
  {
   "cell_type": "markdown",
   "id": "6d4144a2",
   "metadata": {},
   "source": [
    "## Heatmaps"
   ]
  },
  {
   "cell_type": "code",
   "execution_count": null,
   "id": "63927ed7",
   "metadata": {
    "ExecuteTime": {
     "end_time": "2024-08-01T19:41:38.363838Z",
     "start_time": "2024-08-01T19:41:37.708655Z"
    },
    "execution": {
     "iopub.execute_input": "2024-12-13T13:41:36.617317Z",
     "iopub.status.busy": "2024-12-13T13:41:36.615854Z",
     "iopub.status.idle": "2024-12-13T13:41:38.344432Z",
     "shell.execute_reply": "2024-12-13T13:41:38.344069Z",
     "shell.execute_reply.started": "2024-12-13T13:41:36.617303Z"
    }
   },
   "outputs": [],
   "source": [
    "plot_heatmap(\n",
    "    finetune_costs = [1, 5, 10, 15, 20, 25], \n",
    "    delta_thresholds = list(np.arange(0.1, 1.1, 0.1)),\n",
    "    data=normalized_df, \n",
    "    targets=[\n",
    "        'periodic-2',\n",
    "#         'reactive-85',\n",
    "#         'random',\n",
    "#         'random-75',\n",
    "        'exponential',\n",
    "        'sentence',\n",
    "        'sentence-2000',\n",
    "        'flexico',\n",
    "        'opt-5',\n",
    "    ],\n",
    "    normalize=True,\n",
    ")"
   ]
  },
  {
   "cell_type": "markdown",
   "id": "bbae0953",
   "metadata": {},
   "source": [
    "## Bar plots"
   ]
  },
  {
   "cell_type": "code",
   "execution_count": null,
   "id": "bcd6c7a5",
   "metadata": {
    "ExecuteTime": {
     "end_time": "2024-08-03T04:51:48.332114Z",
     "start_time": "2024-08-03T04:51:47.355264Z"
    },
    "execution": {
     "iopub.execute_input": "2024-12-13T13:41:38.345039Z",
     "iopub.status.busy": "2024-12-13T13:41:38.344923Z",
     "iopub.status.idle": "2024-12-13T13:41:57.373747Z",
     "shell.execute_reply": "2024-12-13T13:41:57.373033Z",
     "shell.execute_reply.started": "2024-12-13T13:41:38.345025Z"
    }
   },
   "outputs": [],
   "source": [
    "plot_bar(\n",
    "    finetune_costs = [1, 5, 10, 15, 20, 25], \n",
    "    # delta_thresholds = [0.1, 0.2, 0.3, 0.4, 0.5, 0.6, 0.7, 0.8, 0.9, 1.0],\n",
    "    delta_thresholds = [0.2, 0.4, 0.6, 0.8, 1.0],\n",
    "    data=res.loc[res['topicWeightType'] == 'delayed'], \n",
    "    targets=[\n",
    "        'random',\n",
    "        'random-75',\n",
    "        'reactive-85',\n",
    "        'periodic-2',\n",
    "        'exponential',\n",
    "        'sentence',\n",
    "        'sentence-2000',\n",
    "        'flexico',\n",
    "        'opt-5',\n",
    "    ],\n",
    ")"
   ]
  },
  {
   "cell_type": "code",
   "execution_count": null,
   "id": "e49b2488-c8ca-4b6a-b5ab-2794f7bf916e",
   "metadata": {
    "execution": {
     "iopub.execute_input": "2024-12-13T13:41:57.374712Z",
     "iopub.status.busy": "2024-12-13T13:41:57.374596Z",
     "iopub.status.idle": "2024-12-13T13:42:17.870151Z",
     "shell.execute_reply": "2024-12-13T13:42:17.869444Z",
     "shell.execute_reply.started": "2024-12-13T13:41:57.374700Z"
    }
   },
   "outputs": [],
   "source": [
    "plot_bar(\n",
    "    finetune_costs = [1, 5, 10, 15, 20, 25], \n",
    "    delta_thresholds = [0.1, 0.2, 0.3, 0.4, 0.5, 0.6, 0.7, 0.8, 0.9, 1.0],\n",
    "    #delta_thresholds = [0.2, 0.4, 0.6, 0.8, 1.0],\n",
    "    data=res.loc[res['topicWeightType'] == 'delayed'], \n",
    "    targets=[\n",
    "        'random',\n",
    "        'random-75',\n",
    "        'reactive-85',\n",
    "        'periodic-2',\n",
    "        'exponential',\n",
    "        'sentence',\n",
    "        'sentence-2000',\n",
    "        'flexico',\n",
    "        'opt-5',\n",
    "    ],\n",
    ")"
   ]
  }
 ],
 "metadata": {
  "hide_input": false,
  "kernelspec": {
   "display_name": "Python 3 (ipykernel)",
   "language": "python",
   "name": "python3"
  },
  "language_info": {
   "codemirror_mode": {
    "name": "ipython",
    "version": 3
   },
   "file_extension": ".py",
   "mimetype": "text/x-python",
   "name": "python",
   "nbconvert_exporter": "python",
   "pygments_lexer": "ipython3",
   "version": "3.8.18"
  },
  "latex_envs": {
   "LaTeX_envs_menu_present": true,
   "autoclose": false,
   "autocomplete": true,
   "bibliofile": "biblio.bib",
   "cite_by": "apalike",
   "current_citInitial": 1,
   "eqLabelWithNumbers": true,
   "eqNumInitial": 1,
   "hotkeys": {
    "equation": "Ctrl-E",
    "itemize": "Ctrl-I"
   },
   "labels_anchors": false,
   "latex_user_defs": false,
   "report_style_numbering": false,
   "user_envs_cfg": false
  },
  "toc": {
   "base_numbering": 1,
   "nav_menu": {},
   "number_sections": true,
   "sideBar": true,
   "skip_h1_title": false,
   "title_cell": "Table of Contents",
   "title_sidebar": "Contents",
   "toc_cell": false,
   "toc_position": {
    "height": "652px",
    "left": "69px",
    "top": "180px",
    "width": "214.141px"
   },
   "toc_section_display": true,
   "toc_window_display": true
  }
 },
 "nbformat": 4,
 "nbformat_minor": 5
}

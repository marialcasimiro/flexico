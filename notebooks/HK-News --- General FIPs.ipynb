{
 "cells": [
  {
   "cell_type": "markdown",
   "id": "a4e22890",
   "metadata": {},
   "source": [
    "# Required imports"
   ]
  },
  {
   "cell_type": "code",
   "execution_count": 1,
   "id": "c99e9fe7",
   "metadata": {
    "ExecuteTime": {
     "end_time": "2024-07-30T16:40:22.788466Z",
     "start_time": "2024-07-30T16:40:21.479695Z"
    },
    "execution": {
     "iopub.execute_input": "2024-12-14T20:18:22.359377Z",
     "iopub.status.busy": "2024-12-14T20:18:22.359007Z",
     "iopub.status.idle": "2024-12-14T20:18:23.410974Z",
     "shell.execute_reply": "2024-12-14T20:18:23.410568Z",
     "shell.execute_reply.started": "2024-12-14T20:18:22.359347Z"
    },
    "hide_input": false
   },
   "outputs": [],
   "source": [
    "import os\n",
    "import json\n",
    "import itertools\n",
    "import matplotlib.pyplot as plt\n",
    "import pandas as pd\n",
    "\n",
    "from helper_functions import *\n",
    "from hk_news_features import *"
   ]
  },
  {
   "cell_type": "markdown",
   "id": "8841de5f",
   "metadata": {},
   "source": [
    "# Plot settings"
   ]
  },
  {
   "cell_type": "code",
   "execution_count": 2,
   "id": "316f4a9c",
   "metadata": {
    "ExecuteTime": {
     "end_time": "2024-07-30T16:40:22.795649Z",
     "start_time": "2024-07-30T16:40:22.789658Z"
    },
    "execution": {
     "iopub.execute_input": "2024-12-14T20:18:23.412006Z",
     "iopub.status.busy": "2024-12-14T20:18:23.411833Z",
     "iopub.status.idle": "2024-12-14T20:18:23.419390Z",
     "shell.execute_reply": "2024-12-14T20:18:23.419010Z",
     "shell.execute_reply.started": "2024-12-14T20:18:23.411993Z"
    }
   },
   "outputs": [],
   "source": [
    "SIZE = 10\n",
    "\n",
    "plt.rc('xtick', labelsize=SIZE)\n",
    "plt.rc('ytick', labelsize=SIZE)\n",
    "plt.rc('font', size=SIZE)\n",
    "plt.rc('axes', labelsize=SIZE)\n",
    "plt.rcParams[\"figure.figsize\"] = (15,11)\n",
    "\n",
    "\n",
    "metrics_palette = {\n",
    "    'comet22': \"lightsteelblue\", \n",
    "    'comet22-qe': \"royalblue\", \n",
    "    'chrf': \"khaki\", \n",
    "    'sacrebleu': \"goldenrod\",\n",
    "}\n",
    "\n",
    "scalers_palette = {\n",
    "    'none, lin': \"#11324D\",\n",
    "    'none, rf': \"#6B7AA1\", \n",
    "    'none, xgb': \"#A6DCEF\",\n",
    "    'standard, lin': \"#3A4D39\",\n",
    "    'standard, rf': \"#79AC78\", \n",
    "    'standard, xgb': \"#D0E7D2\", \n",
    "    'min-max, lin': \"#7F669D\",\n",
    "    'min-max, rf': \"#BA94D1\", \n",
    "    'min-max, xgb': \"#DEBACE\",\n",
    "}\n",
    "\n",
    "%matplotlib widget"
   ]
  },
  {
   "cell_type": "markdown",
   "id": "045f5614",
   "metadata": {},
   "source": [
    "# Load data"
   ]
  },
  {
   "cell_type": "code",
   "execution_count": 3,
   "id": "9a3b8a29",
   "metadata": {
    "ExecuteTime": {
     "end_time": "2024-07-30T16:40:22.797895Z",
     "start_time": "2024-07-30T16:40:22.796586Z"
    },
    "execution": {
     "iopub.execute_input": "2024-12-14T20:18:23.420135Z",
     "iopub.status.busy": "2024-12-14T20:18:23.420025Z",
     "iopub.status.idle": "2024-12-14T20:18:23.422390Z",
     "shell.execute_reply": "2024-12-14T20:18:23.422080Z",
     "shell.execute_reply.started": "2024-12-14T20:18:23.420124Z"
    }
   },
   "outputs": [],
   "source": [
    "BASE_DIR = f\"{os.getcwd()}/../../\"\n",
    "MODEL_EVAL_DIR = BASE_DIR + \"model_eval/\""
   ]
  },
  {
   "cell_type": "code",
   "execution_count": 4,
   "id": "8e752ab4",
   "metadata": {
    "ExecuteTime": {
     "end_time": "2024-07-30T16:40:23.071015Z",
     "start_time": "2024-07-30T16:40:22.799161Z"
    },
    "execution": {
     "iopub.execute_input": "2024-12-14T20:18:23.422901Z",
     "iopub.status.busy": "2024-12-14T20:18:23.422810Z",
     "iopub.status.idle": "2024-12-14T20:18:23.789075Z",
     "shell.execute_reply": "2024-12-14T20:18:23.788698Z",
     "shell.execute_reply.started": "2024-12-14T20:18:23.422891Z"
    }
   },
   "outputs": [],
   "source": [
    "fid_file = \"fid-finetune_data-dataset_hk-news-timeInterval_1-timeIntervalType_time-finetuneType_base.csv\"\n",
    "fid = pd.read_csv(MODEL_EVAL_DIR + fid_file)\n",
    "\n",
    "fid = set_type_of_time_cols(fid)"
   ]
  },
  {
   "cell_type": "code",
   "execution_count": null,
   "id": "1b3a6a1a",
   "metadata": {
    "ExecuteTime": {
     "end_time": "2024-07-30T16:40:23.390270Z",
     "start_time": "2024-07-30T16:40:23.387825Z"
    },
    "execution": {
     "iopub.execute_input": "2024-12-14T20:18:23.790646Z",
     "iopub.status.busy": "2024-12-14T20:18:23.790526Z",
     "iopub.status.idle": "2024-12-14T20:18:23.794335Z",
     "shell.execute_reply": "2024-12-14T20:18:23.794015Z",
     "shell.execute_reply.started": "2024-12-14T20:18:23.790635Z"
    },
    "scrolled": true
   },
   "outputs": [],
   "source": [
    "fid.columns"
   ]
  },
  {
   "cell_type": "markdown",
   "id": "5ab752af",
   "metadata": {},
   "source": [
    "## Add delta target features"
   ]
  },
  {
   "cell_type": "code",
   "execution_count": 6,
   "id": "9540529b",
   "metadata": {
    "ExecuteTime": {
     "end_time": "2024-07-30T16:40:23.397488Z",
     "start_time": "2024-07-30T16:40:23.391143Z"
    },
    "execution": {
     "iopub.execute_input": "2024-12-14T20:18:23.794862Z",
     "iopub.status.busy": "2024-12-14T20:18:23.794765Z",
     "iopub.status.idle": "2024-12-14T20:18:23.891773Z",
     "shell.execute_reply": "2024-12-14T20:18:23.891375Z",
     "shell.execute_reply.started": "2024-12-14T20:18:23.794851Z"
    }
   },
   "outputs": [],
   "source": [
    "for test_set in HK_NEWS_TEST_SETS:\n",
    "    for metric in METRICS:\n",
    "        key = f\"{test_set}_{metric}\"\n",
    "        fid[f\"delta-target_{key}\"] = fid[f\"target_{key}\"] - fid[f\"curr_{key}\"]"
   ]
  },
  {
   "cell_type": "markdown",
   "id": "d7535415",
   "metadata": {},
   "source": [
    "## View data"
   ]
  },
  {
   "cell_type": "code",
   "execution_count": null,
   "id": "96e6e44f",
   "metadata": {
    "ExecuteTime": {
     "end_time": "2024-07-30T16:40:23.410869Z",
     "start_time": "2024-07-30T16:40:23.398265Z"
    },
    "execution": {
     "iopub.execute_input": "2024-12-14T20:18:23.892422Z",
     "iopub.status.busy": "2024-12-14T20:18:23.892314Z",
     "iopub.status.idle": "2024-12-14T20:18:23.907091Z",
     "shell.execute_reply": "2024-12-14T20:18:23.906707Z",
     "shell.execute_reply.started": "2024-12-14T20:18:23.892411Z"
    }
   },
   "outputs": [],
   "source": [
    "fid[[\n",
    "    'curr_comet22',\n",
    "    'curr_Finance_comet22',\n",
    "    'target_Finance_comet22',\n",
    "    'curr_finetune',\n",
    "    'prev_finetune',\n",
    "    'period_start_timestamp',\n",
    "    'period_end_timestamp',\n",
    "    'prev_finetune_period_start_timestamp',\n",
    "    'prev_finetune_period_end_timestamp',\n",
    "    'curr_finetune_week',\n",
    "    'prev_finetune_week',\n",
    "]].loc[\n",
    "    (fid.prev_finetune == 106)\n",
    "    & (fid.curr_finetune == 110)\n",
    "]"
   ]
  },
  {
   "cell_type": "markdown",
   "id": "acc7c798",
   "metadata": {},
   "source": [
    "### Look for NaN"
   ]
  },
  {
   "cell_type": "code",
   "execution_count": null,
   "id": "2a1100c1",
   "metadata": {
    "ExecuteTime": {
     "end_time": "2024-07-30T16:40:23.471128Z",
     "start_time": "2024-07-30T16:40:23.418615Z"
    },
    "execution": {
     "iopub.execute_input": "2024-12-14T20:18:23.907909Z",
     "iopub.status.busy": "2024-12-14T20:18:23.907784Z",
     "iopub.status.idle": "2024-12-14T20:18:23.975561Z",
     "shell.execute_reply": "2024-12-14T20:18:23.974940Z",
     "shell.execute_reply.started": "2024-12-14T20:18:23.907897Z"
    },
    "scrolled": true
   },
   "outputs": [],
   "source": [
    "print(\"Feature name\")\n",
    "print(\"-\"*50)\n",
    "for col in fid.columns:\n",
    "    print(f\"{col}\\t\\t{fid[col].isna().sum()}\")"
   ]
  },
  {
   "cell_type": "markdown",
   "id": "9587159a",
   "metadata": {},
   "source": [
    "# Load/Create general FID"
   ]
  },
  {
   "cell_type": "code",
   "execution_count": 9,
   "id": "f315ffdf",
   "metadata": {
    "ExecuteTime": {
     "end_time": "2024-07-30T16:40:24.114562Z",
     "start_time": "2024-07-30T16:40:23.472103Z"
    },
    "execution": {
     "iopub.execute_input": "2024-12-14T20:18:23.977145Z",
     "iopub.status.busy": "2024-12-14T20:18:23.976700Z",
     "iopub.status.idle": "2024-12-14T20:18:24.670675Z",
     "shell.execute_reply": "2024-12-14T20:18:24.670286Z",
     "shell.execute_reply.started": "2024-12-14T20:18:23.977127Z"
    }
   },
   "outputs": [],
   "source": [
    "try:\n",
    "    general_fid = pd.read_csv(\n",
    "        MODEL_EVAL_DIR + f\"general_{fid_file}\",\n",
    "    )\n",
    "    \n",
    "    general_fid = set_type_of_time_cols(general_fid)\n",
    "        \n",
    "except OSError as e:\n",
    "    print(f\"[E] {e}\\n[E] General FID does not exist in dir {MODEL_EVAL_DIR}. Creating...\")\n",
    "    general_fid = create_general_fid(\n",
    "        df=fid,\n",
    "        dataset_name='hk-news',\n",
    "    )\n",
    "    list(general_fid.columns)\n",
    "    \n",
    "    general_fid.to_csv(\n",
    "        path_or_buf=MODEL_EVAL_DIR + f\"general_{fid_file}\", \n",
    "        index=False\n",
    "    )"
   ]
  },
  {
   "cell_type": "markdown",
   "id": "732b4c22",
   "metadata": {},
   "source": [
    "# Experimental settings"
   ]
  },
  {
   "cell_type": "markdown",
   "id": "25ca0dde",
   "metadata": {},
   "source": [
    "## Predictors"
   ]
  },
  {
   "cell_type": "code",
   "execution_count": null,
   "id": "ac62e3b3",
   "metadata": {
    "ExecuteTime": {
     "end_time": "2024-07-30T16:40:24.887076Z",
     "start_time": "2024-07-30T16:40:24.883782Z"
    },
    "execution": {
     "iopub.execute_input": "2024-12-14T20:18:24.671312Z",
     "iopub.status.busy": "2024-12-14T20:18:24.671198Z",
     "iopub.status.idle": "2024-12-14T20:18:24.674619Z",
     "shell.execute_reply": "2024-12-14T20:18:24.674321Z",
     "shell.execute_reply.started": "2024-12-14T20:18:24.671296Z"
    }
   },
   "outputs": [],
   "source": [
    "predictors = [\n",
    "    \"lin\",\n",
    "    \"rf\", \n",
    "    \"xgb\",\n",
    "]\n",
    "f\"predictors: {predictors}\""
   ]
  },
  {
   "cell_type": "markdown",
   "id": "27b4bff0",
   "metadata": {},
   "source": [
    "## Features dict"
   ]
  },
  {
   "cell_type": "code",
   "execution_count": null,
   "id": "ba295917",
   "metadata": {
    "ExecuteTime": {
     "end_time": "2024-07-30T16:40:24.889721Z",
     "start_time": "2024-07-30T16:40:24.887827Z"
    },
    "execution": {
     "iopub.execute_input": "2024-12-14T20:18:24.675139Z",
     "iopub.status.busy": "2024-12-14T20:18:24.675038Z",
     "iopub.status.idle": "2024-12-14T20:18:24.679046Z",
     "shell.execute_reply": "2024-12-14T20:18:24.678749Z",
     "shell.execute_reply.started": "2024-12-14T20:18:24.675129Z"
    }
   },
   "outputs": [],
   "source": [
    "features_dict={\n",
    "    'All': GENERIC_CONTENT_AWARE_FEATURES + BASIC_FEATURES + GENERIC_SYS_PERF_FEATURES,\n",
    "    'Basic': BASIC_FEATURES,\n",
    "    'ContAware': GENERIC_CONTENT_AWARE_FEATURES,\n",
    "    \"MTQual\": GENERIC_SYS_PERF_FEATURES,\n",
    "    \"Basic-MTQual\": BASIC_FEATURES + GENERIC_SYS_PERF_FEATURES,\n",
    "    \"Basic-ContAware\": BASIC_FEATURES + GENERIC_CONTENT_AWARE_FEATURES,\n",
    "    \"ContAware-no-ngrams\": [f for f in GENERIC_CONTENT_AWARE_FEATURES if \"gram\" not in f],\n",
    "    \"ContAware-MTQual\": GENERIC_CONTENT_AWARE_FEATURES + GENERIC_SYS_PERF_FEATURES,\n",
    "    'All-kiwi': GENERIC_CONTENT_AWARE_FEATURES + BASIC_FEATURES + [f for f in GENERIC_SYS_PERF_FEATURES if '-qe' in f ],\n",
    "    'Basic-kiwi': BASIC_FEATURES + [f for f in GENERIC_SYS_PERF_FEATURES if '-qe' in f ],\n",
    "    'ContAware-kiwi': GENERIC_CONTENT_AWARE_FEATURES + [f for f in GENERIC_SYS_PERF_FEATURES if '-qe' in f ],\n",
    "}\n",
    "\n",
    "print(\"features_dict:\")\n",
    "print(json.dumps(features_dict, indent=4))"
   ]
  },
  {
   "cell_type": "markdown",
   "id": "c60045b4",
   "metadata": {},
   "source": [
    "# Evaluate FIPs"
   ]
  },
  {
   "cell_type": "code",
   "execution_count": 12,
   "id": "5b92fd47",
   "metadata": {
    "ExecuteTime": {
     "end_time": "2024-07-30T16:40:24.891615Z",
     "start_time": "2024-07-30T16:40:24.890357Z"
    },
    "execution": {
     "iopub.execute_input": "2024-12-13T14:32:29.096697Z",
     "iopub.status.busy": "2024-12-13T14:32:29.096597Z",
     "iopub.status.idle": "2024-12-13T14:32:29.098194Z",
     "shell.execute_reply": "2024-12-13T14:32:29.097948Z",
     "shell.execute_reply.started": "2024-12-13T14:32:29.096687Z"
    }
   },
   "outputs": [],
   "source": [
    "res_dict = {}\n",
    "feature_imp_dict = {}"
   ]
  },
  {
   "cell_type": "code",
   "execution_count": null,
   "id": "c3bf557c",
   "metadata": {
    "ExecuteTime": {
     "end_time": "2024-07-30T16:43:14.783639Z",
     "start_time": "2024-07-30T16:40:24.892375Z"
    },
    "execution": {
     "iopub.execute_input": "2024-12-13T14:32:29.098683Z",
     "iopub.status.busy": "2024-12-13T14:32:29.098606Z",
     "iopub.status.idle": "2024-12-13T14:44:45.360387Z",
     "shell.execute_reply": "2024-12-13T14:44:45.359628Z",
     "shell.execute_reply.started": "2024-12-13T14:32:29.098674Z"
    }
   },
   "outputs": [],
   "source": [
    "for metric in ['comet22', 'chrf', 'sacrebleu', 'comet22-qe']:\n",
    "    eval_FIPs_offline(\n",
    "        target=f'delta-target_test_set_{metric}', \n",
    "        features_dict=features_dict, \n",
    "        predictors=predictors, \n",
    "        res_dict=res_dict, \n",
    "        feature_imp_dict=feature_imp_dict, \n",
    "        dataset=general_fid,\n",
    "        dataset_name='hk-news',\n",
    "        fip_type='generic',\n",
    "        fid_type='normal',\n",
    "    )"
   ]
  },
  {
   "cell_type": "markdown",
   "id": "32c88183",
   "metadata": {},
   "source": [
    "## Results"
   ]
  },
  {
   "cell_type": "code",
   "execution_count": 14,
   "id": "a86c1b81",
   "metadata": {
    "ExecuteTime": {
     "end_time": "2024-07-30T16:47:56.246836Z",
     "start_time": "2024-07-30T16:47:56.235036Z"
    },
    "execution": {
     "iopub.execute_input": "2024-12-13T14:44:45.361805Z",
     "iopub.status.busy": "2024-12-13T14:44:45.361495Z",
     "iopub.status.idle": "2024-12-13T14:44:45.419447Z",
     "shell.execute_reply": "2024-12-13T14:44:45.418801Z",
     "shell.execute_reply.started": "2024-12-13T14:44:45.361790Z"
    }
   },
   "outputs": [],
   "source": [
    "results = pd.DataFrame(res_dict).transpose()\n",
    "results['PCC'] = results['test-PCC'] * 100\n",
    "results['MAE'] = results['test-mae']\n",
    "\n",
    "results = results.round({'PCC': 2, 'MAE': 4})"
   ]
  },
  {
   "cell_type": "markdown",
   "id": "915609b7-d7a9-48bb-a1ce-e18dc00d2418",
   "metadata": {},
   "source": [
    "### COMET22"
   ]
  },
  {
   "cell_type": "code",
   "execution_count": null,
   "id": "a20cdfdd",
   "metadata": {
    "ExecuteTime": {
     "end_time": "2024-07-30T16:47:56.372561Z",
     "start_time": "2024-07-30T16:47:56.250676Z"
    },
    "execution": {
     "iopub.execute_input": "2024-12-13T15:00:01.148022Z",
     "iopub.status.busy": "2024-12-13T15:00:01.147368Z",
     "iopub.status.idle": "2024-12-13T15:00:01.433644Z",
     "shell.execute_reply": "2024-12-13T15:00:01.433228Z",
     "shell.execute_reply.started": "2024-12-13T15:00:01.147972Z"
    },
    "scrolled": true
   },
   "outputs": [],
   "source": [
    "get_results_table(\n",
    "    results = results.loc[results.metric == 'comet22'],\n",
    "    fid_type = 'normal',\n",
    "    average = False,\n",
    "    single = False,    # whether to return a single table or a table for each predictor\n",
    "    to_latex = True,  # whether to print the table in latex\n",
    ")"
   ]
  },
  {
   "cell_type": "markdown",
   "id": "84bbe178-73a4-4d18-8922-b1fa330384e4",
   "metadata": {},
   "source": [
    "### chrF"
   ]
  },
  {
   "cell_type": "code",
   "execution_count": null,
   "id": "4453be77-df83-43ba-99ba-537432c4d25b",
   "metadata": {
    "execution": {
     "iopub.execute_input": "2024-12-13T15:05:34.099287Z",
     "iopub.status.busy": "2024-12-13T15:05:34.096618Z",
     "iopub.status.idle": "2024-12-13T15:05:34.349401Z",
     "shell.execute_reply": "2024-12-13T15:05:34.348188Z",
     "shell.execute_reply.started": "2024-12-13T15:05:34.099214Z"
    },
    "scrolled": true
   },
   "outputs": [],
   "source": [
    "get_results_table(\n",
    "    results = results.loc[results.metric == 'chrf'],\n",
    "    fid_type = 'normal',\n",
    "    average = False,\n",
    "    single = False,    # whether to return a single table or a table for each predictor\n",
    "    to_latex = True,  # whether to print the table in latex\n",
    ")"
   ]
  },
  {
   "cell_type": "markdown",
   "id": "ae4511db-df76-4200-b09a-b9b2170a32c1",
   "metadata": {},
   "source": [
    "### sacreBLEU"
   ]
  },
  {
   "cell_type": "code",
   "execution_count": null,
   "id": "f4d3517f-58c6-44e5-a48e-cf79ab6fcce3",
   "metadata": {
    "execution": {
     "iopub.execute_input": "2024-12-13T15:08:46.341089Z",
     "iopub.status.busy": "2024-12-13T15:08:46.340885Z",
     "iopub.status.idle": "2024-12-13T15:08:46.508954Z",
     "shell.execute_reply": "2024-12-13T15:08:46.508564Z",
     "shell.execute_reply.started": "2024-12-13T15:08:46.341071Z"
    },
    "scrolled": true
   },
   "outputs": [],
   "source": [
    "get_results_table(\n",
    "    results = results.loc[results.metric == 'sacrebleu'],\n",
    "    fid_type = 'normal',\n",
    "    average = False,\n",
    "    single = False,    # whether to return a single table or a table for each predictor\n",
    "    to_latex = True,  # whether to print the table in latex\n",
    ")"
   ]
  },
  {
   "cell_type": "markdown",
   "id": "d1255e68-e71c-4482-b998-f4a84e2d5b23",
   "metadata": {},
   "source": [
    "### comet22-qe"
   ]
  },
  {
   "cell_type": "code",
   "execution_count": null,
   "id": "dc3ce419-75b4-46e0-bc1b-4e0f126c1b5a",
   "metadata": {
    "execution": {
     "iopub.execute_input": "2024-12-13T15:12:23.289315Z",
     "iopub.status.busy": "2024-12-13T15:12:23.288821Z",
     "iopub.status.idle": "2024-12-13T15:12:23.436964Z",
     "shell.execute_reply": "2024-12-13T15:12:23.436262Z",
     "shell.execute_reply.started": "2024-12-13T15:12:23.289283Z"
    },
    "scrolled": true
   },
   "outputs": [],
   "source": [
    "get_results_table(\n",
    "    results = results.loc[results.metric == 'comet22-qe'],\n",
    "    fid_type = 'normal',\n",
    "    average = False,\n",
    "    single = False,    # whether to return a single table or a table for each predictor\n",
    "    to_latex = True,  # whether to print the table in latex\n",
    ")"
   ]
  },
  {
   "cell_type": "markdown",
   "id": "35cd18b7",
   "metadata": {},
   "source": [
    "# Test Leave-N-Out"
   ]
  },
  {
   "cell_type": "code",
   "execution_count": 12,
   "id": "edd3c317",
   "metadata": {
    "ExecuteTime": {
     "end_time": "2024-07-30T16:52:38.806902Z",
     "start_time": "2024-07-30T16:52:38.788019Z"
    },
    "execution": {
     "iopub.execute_input": "2024-12-14T20:18:25.522780Z",
     "iopub.status.busy": "2024-12-14T20:18:25.522365Z",
     "iopub.status.idle": "2024-12-14T20:18:25.526302Z",
     "shell.execute_reply": "2024-12-14T20:18:25.525586Z",
     "shell.execute_reply.started": "2024-12-14T20:18:25.522750Z"
    }
   },
   "outputs": [],
   "source": [
    "lno_res_dict = {}\n",
    "lno_feature_imp_dict = {}"
   ]
  },
  {
   "cell_type": "code",
   "execution_count": null,
   "id": "59f20da4",
   "metadata": {
    "ExecuteTime": {
     "end_time": "2024-07-30T17:06:34.469697Z",
     "start_time": "2024-07-30T16:52:38.814899Z"
    },
    "execution": {
     "iopub.execute_input": "2024-12-14T20:40:46.009814Z",
     "iopub.status.busy": "2024-12-14T20:40:46.009312Z",
     "iopub.status.idle": "2024-12-14T20:55:53.035218Z",
     "shell.execute_reply": "2024-12-14T20:55:53.034044Z",
     "shell.execute_reply.started": "2024-12-14T20:40:46.009783Z"
    },
    "scrolled": true
   },
   "outputs": [],
   "source": [
    "test_set_combinations = []\n",
    "subset_size = 1\n",
    "for subset in itertools.combinations(HK_NEWS_TEST_SETS, subset_size):\n",
    "    test_set_combinations.append(list(subset))\n",
    "\n",
    "print(test_set_combinations)\n",
    "print(len(test_set_combinations))\n",
    "\n",
    "for metric in ['comet22-qe']: #'comet22', 'chrf', 'sacrebleu', 'comet22-qe']:\n",
    "    for test_set_comb in test_set_combinations:\n",
    "        eval_FIPs_offline(\n",
    "            target=f'delta-target_test_set_{metric}', \n",
    "            features_dict=features_dict, \n",
    "            predictors=predictors, \n",
    "            res_dict=lno_res_dict, \n",
    "            feature_imp_dict=lno_feature_imp_dict, \n",
    "            dataset=general_fid,\n",
    "            dataset_name='hk-news',\n",
    "            fip_type='generic',\n",
    "            fid_type='normal',\n",
    "            l1o_test_set=test_set_comb,\n",
    "            create_plots=False,\n",
    "        )"
   ]
  },
  {
   "cell_type": "markdown",
   "id": "4e78c78b",
   "metadata": {},
   "source": [
    "## Results"
   ]
  },
  {
   "cell_type": "code",
   "execution_count": 17,
   "id": "88413a2d",
   "metadata": {
    "ExecuteTime": {
     "end_time": "2024-07-30T17:27:16.999266Z",
     "start_time": "2024-07-30T17:27:16.928999Z"
    },
    "execution": {
     "iopub.execute_input": "2024-12-14T21:49:38.847653Z",
     "iopub.status.busy": "2024-12-14T21:49:38.847164Z",
     "iopub.status.idle": "2024-12-14T21:49:38.958296Z",
     "shell.execute_reply": "2024-12-14T21:49:38.957103Z",
     "shell.execute_reply.started": "2024-12-14T21:49:38.847605Z"
    }
   },
   "outputs": [],
   "source": [
    "lno_results = pd.DataFrame(lno_res_dict).transpose()\n",
    "lno_results['PCC'] = lno_results['test-PCC'] * 100\n",
    "lno_results['MAE'] = lno_results['test-mae']\n",
    "\n",
    "lno_results = lno_results.round({'PCC': 2, 'MAE': 4})"
   ]
  },
  {
   "cell_type": "markdown",
   "id": "ff81b58f-e4fe-47f9-afeb-e7eb3e637a47",
   "metadata": {},
   "source": [
    "### COMET22"
   ]
  },
  {
   "cell_type": "code",
   "execution_count": null,
   "id": "8cceb7e2",
   "metadata": {
    "ExecuteTime": {
     "end_time": "2024-07-30T17:28:04.981361Z",
     "start_time": "2024-07-30T17:28:04.895204Z"
    },
    "execution": {
     "iopub.execute_input": "2024-12-13T18:42:41.340910Z",
     "iopub.status.busy": "2024-12-13T18:42:41.340110Z",
     "iopub.status.idle": "2024-12-13T18:42:41.505725Z",
     "shell.execute_reply": "2024-12-13T18:42:41.504784Z",
     "shell.execute_reply.started": "2024-12-13T18:42:41.340888Z"
    },
    "scrolled": true
   },
   "outputs": [],
   "source": [
    "FID_TYPE = 'normal'\n",
    "\n",
    "for predictor in lno_results.predictor.unique():\n",
    "    res_table = lno_results.loc[\n",
    "        (lno_results.fid_type == FID_TYPE)\n",
    "        & (lno_results.predictor == predictor)\n",
    "        & (lno_results.metric == 'comet22')\n",
    "    ][[\n",
    "        'l1o-test_set',\n",
    "        'predictor',\n",
    "        'metric',\n",
    "        'features',\n",
    "        'MAE',\n",
    "        'PCC',\n",
    "    ]].pivot(\n",
    "        index='l1o-test_set', columns=['predictor', 'features'], values=['MAE', 'PCC']\n",
    "    ).stack(level=0).transpose().style.apply(\n",
    "        lambda col: highlight_opt(col),\n",
    "        axis=0,\n",
    "    )\n",
    "\n",
    "    display(res_table)\n",
    "    \n",
    "#     if 'rf' in predictor:\n",
    "     # to latex\n",
    "    print(res_table.to_latex(convert_css=True))"
   ]
  },
  {
   "cell_type": "markdown",
   "id": "a40fccc4-26a2-46b3-a68c-06d6e92534e9",
   "metadata": {},
   "source": [
    "### chrF"
   ]
  },
  {
   "cell_type": "code",
   "execution_count": null,
   "id": "fa73c2ae-a629-4625-8ecc-065bfa2371c4",
   "metadata": {
    "execution": {
     "iopub.execute_input": "2024-12-14T17:06:58.944551Z",
     "iopub.status.busy": "2024-12-14T17:06:58.944398Z",
     "iopub.status.idle": "2024-12-14T17:06:59.353034Z",
     "shell.execute_reply": "2024-12-14T17:06:59.352445Z",
     "shell.execute_reply.started": "2024-12-14T17:06:58.944506Z"
    },
    "scrolled": true
   },
   "outputs": [],
   "source": [
    "FID_TYPE = 'normal'\n",
    "\n",
    "for predictor in lno_results.predictor.unique():\n",
    "    res_table = lno_results.loc[\n",
    "        (lno_results.fid_type == FID_TYPE)\n",
    "        & (lno_results.predictor == predictor)\n",
    "        & (lno_results.metric == 'chrf')\n",
    "    ][[\n",
    "        'l1o-test_set',\n",
    "        'predictor',\n",
    "        'metric',\n",
    "        'features',\n",
    "        'MAE',\n",
    "        'PCC',\n",
    "    ]].pivot(\n",
    "        index='l1o-test_set', columns=['predictor', 'features'], values=['MAE', 'PCC']\n",
    "    ).stack(level=0).transpose().style.apply(\n",
    "        lambda col: highlight_opt(col),\n",
    "        axis=0,\n",
    "    )\n",
    "\n",
    "    display(res_table)\n",
    "    \n",
    "#     if 'rf' in predictor:\n",
    "     # to latex\n",
    "    print(res_table.to_latex(convert_css=True))"
   ]
  },
  {
   "cell_type": "markdown",
   "id": "fcb6bae2-0e15-4471-b29f-24f78ac77287",
   "metadata": {},
   "source": [
    "### sacreBLEU"
   ]
  },
  {
   "cell_type": "code",
   "execution_count": null,
   "id": "e65c2045-a32e-4d99-9c17-bf0b632c0c2a",
   "metadata": {
    "execution": {
     "iopub.execute_input": "2024-12-14T20:40:33.796283Z",
     "iopub.status.busy": "2024-12-14T20:40:33.795872Z",
     "iopub.status.idle": "2024-12-14T20:40:34.432053Z",
     "shell.execute_reply": "2024-12-14T20:40:34.431745Z",
     "shell.execute_reply.started": "2024-12-14T20:40:33.796251Z"
    },
    "scrolled": true
   },
   "outputs": [],
   "source": [
    "FID_TYPE = 'normal'\n",
    "\n",
    "for predictor in lno_results.predictor.unique():\n",
    "    res_table = lno_results.loc[\n",
    "        (lno_results.fid_type == FID_TYPE)\n",
    "        & (lno_results.predictor == predictor)\n",
    "        & (lno_results.metric == 'sacrebleu')\n",
    "    ][[\n",
    "        'l1o-test_set',\n",
    "        'predictor',\n",
    "        'metric',\n",
    "        'features',\n",
    "        'MAE',\n",
    "        'PCC',\n",
    "    ]].pivot(\n",
    "        index='l1o-test_set', columns=['predictor', 'features'], values=['MAE', 'PCC']\n",
    "    ).stack(level=0).transpose().style.apply(\n",
    "        lambda col: highlight_opt(col),\n",
    "        axis=0,\n",
    "    )\n",
    "\n",
    "    display(res_table)\n",
    "    \n",
    "#     if 'rf' in predictor:\n",
    "     # to latex\n",
    "    print(res_table.to_latex(convert_css=True))"
   ]
  },
  {
   "cell_type": "markdown",
   "id": "d53b7680-407d-49a1-96af-e7423b81ea3c",
   "metadata": {},
   "source": [
    "### comet22-qe"
   ]
  },
  {
   "cell_type": "code",
   "execution_count": null,
   "id": "78f566ef-2b7a-4a4d-aff3-77e1e6a3547c",
   "metadata": {
    "execution": {
     "iopub.execute_input": "2024-12-14T21:49:48.098831Z",
     "iopub.status.busy": "2024-12-14T21:49:48.098380Z",
     "iopub.status.idle": "2024-12-14T21:49:48.303251Z",
     "shell.execute_reply": "2024-12-14T21:49:48.302827Z",
     "shell.execute_reply.started": "2024-12-14T21:49:48.098783Z"
    }
   },
   "outputs": [],
   "source": [
    "FID_TYPE = 'normal'\n",
    "\n",
    "for predictor in lno_results.predictor.unique():\n",
    "    res_table = lno_results.loc[\n",
    "        (lno_results.fid_type == FID_TYPE)\n",
    "        & (lno_results.predictor == predictor)\n",
    "        & (lno_results.metric == 'comet22-qe')\n",
    "    ][[\n",
    "        'l1o-test_set',\n",
    "        'predictor',\n",
    "        'metric',\n",
    "        'features',\n",
    "        'MAE',\n",
    "        'PCC',\n",
    "    ]].pivot(\n",
    "        index='l1o-test_set', columns=['predictor', 'features'], values=['MAE', 'PCC']\n",
    "    ).stack(level=0).transpose().style.apply(\n",
    "        lambda col: highlight_opt(col),\n",
    "        axis=0,\n",
    "    )\n",
    "\n",
    "    display(res_table)\n",
    "    \n",
    "#     if 'rf' in predictor:\n",
    "     # to latex\n",
    "    print(res_table.to_latex(convert_css=True))"
   ]
  }
 ],
 "metadata": {
  "hide_input": false,
  "kernelspec": {
   "display_name": "Python 3 (ipykernel)",
   "language": "python",
   "name": "python3"
  },
  "language_info": {
   "codemirror_mode": {
    "name": "ipython",
    "version": 3
   },
   "file_extension": ".py",
   "mimetype": "text/x-python",
   "name": "python",
   "nbconvert_exporter": "python",
   "pygments_lexer": "ipython3",
   "version": "3.8.18"
  },
  "latex_envs": {
   "LaTeX_envs_menu_present": true,
   "autoclose": false,
   "autocomplete": true,
   "bibliofile": "biblio.bib",
   "cite_by": "apalike",
   "current_citInitial": 1,
   "eqLabelWithNumbers": true,
   "eqNumInitial": 1,
   "hotkeys": {
    "equation": "Ctrl-E",
    "itemize": "Ctrl-I"
   },
   "labels_anchors": false,
   "latex_user_defs": false,
   "report_style_numbering": false,
   "user_envs_cfg": false
  },
  "toc": {
   "base_numbering": 1,
   "nav_menu": {},
   "number_sections": true,
   "sideBar": true,
   "skip_h1_title": false,
   "title_cell": "Table of Contents",
   "title_sidebar": "Contents",
   "toc_cell": false,
   "toc_position": {
    "height": "calc(100% - 180px)",
    "left": "10px",
    "top": "150px",
    "width": "250px"
   },
   "toc_section_display": true,
   "toc_window_display": true
  }
 },
 "nbformat": 4,
 "nbformat_minor": 5
}

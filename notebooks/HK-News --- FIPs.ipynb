{
 "cells": [
  {
   "cell_type": "markdown",
   "id": "a4e22890",
   "metadata": {},
   "source": [
    "# Required imports"
   ]
  },
  {
   "cell_type": "code",
   "execution_count": 1,
   "id": "c99e9fe7",
   "metadata": {
    "ExecuteTime": {
     "end_time": "2024-07-30T20:26:09.262818Z",
     "start_time": "2024-07-30T20:26:08.061666Z"
    },
    "execution": {
     "iopub.execute_input": "2024-12-12T12:14:58.981145Z",
     "iopub.status.busy": "2024-12-12T12:14:58.980748Z",
     "iopub.status.idle": "2024-12-12T12:15:00.260734Z",
     "shell.execute_reply": "2024-12-12T12:15:00.260389Z",
     "shell.execute_reply.started": "2024-12-12T12:14:58.981114Z"
    },
    "hide_input": false
   },
   "outputs": [],
   "source": [
    "import os\n",
    "import json\n",
    "import matplotlib.pyplot as plt\n",
    "import pandas as pd\n",
    "\n",
    "from helper_functions import *\n",
    "from hk_news_features import *"
   ]
  },
  {
   "cell_type": "markdown",
   "id": "8841de5f",
   "metadata": {},
   "source": [
    "# Plot settings"
   ]
  },
  {
   "cell_type": "code",
   "execution_count": 2,
   "id": "316f4a9c",
   "metadata": {
    "ExecuteTime": {
     "end_time": "2024-07-30T20:26:09.271319Z",
     "start_time": "2024-07-30T20:26:09.264230Z"
    },
    "execution": {
     "iopub.execute_input": "2024-12-12T12:15:00.261994Z",
     "iopub.status.busy": "2024-12-12T12:15:00.261646Z",
     "iopub.status.idle": "2024-12-12T12:15:00.269781Z",
     "shell.execute_reply": "2024-12-12T12:15:00.269480Z",
     "shell.execute_reply.started": "2024-12-12T12:15:00.261958Z"
    }
   },
   "outputs": [],
   "source": [
    "SIZE = 10\n",
    "\n",
    "plt.rc('xtick', labelsize=SIZE)\n",
    "plt.rc('ytick', labelsize=SIZE)\n",
    "plt.rc('font', size=SIZE)\n",
    "plt.rc('axes', labelsize=SIZE)\n",
    "# plt.rcParams[\"figure.figsize\"] = (15,11)\n",
    "\n",
    "\n",
    "metrics_palette = {\n",
    "    'comet22': \"lightsteelblue\", \n",
    "    'comet22-qe': \"royalblue\", \n",
    "    'chrf': \"khaki\", \n",
    "    'sacrebleu': \"goldenrod\",\n",
    "}\n",
    "\n",
    "scalers_palette = {\n",
    "    'none, lin': \"#11324D\",\n",
    "    'none, rf': \"#6B7AA1\", \n",
    "    'none, xgb': \"#A6DCEF\",\n",
    "    'standard, lin': \"#3A4D39\",\n",
    "    'standard, rf': \"#79AC78\", \n",
    "    'standard, xgb': \"#D0E7D2\", \n",
    "    'min-max, lin': \"#7F669D\",\n",
    "    'min-max, rf': \"#BA94D1\", \n",
    "    'min-max, xgb': \"#DEBACE\",\n",
    "}\n",
    "\n",
    "%matplotlib widget"
   ]
  },
  {
   "cell_type": "markdown",
   "id": "045f5614",
   "metadata": {},
   "source": [
    "# Load data"
   ]
  },
  {
   "cell_type": "code",
   "execution_count": 3,
   "id": "9a3b8a29",
   "metadata": {
    "ExecuteTime": {
     "end_time": "2024-07-30T20:26:09.274203Z",
     "start_time": "2024-07-30T20:26:09.272239Z"
    },
    "execution": {
     "iopub.execute_input": "2024-12-12T12:15:00.270522Z",
     "iopub.status.busy": "2024-12-12T12:15:00.270322Z",
     "iopub.status.idle": "2024-12-12T12:15:00.273132Z",
     "shell.execute_reply": "2024-12-12T12:15:00.272809Z",
     "shell.execute_reply.started": "2024-12-12T12:15:00.270510Z"
    }
   },
   "outputs": [],
   "source": [
    "BASE_DIR = f\"{os.getcwd()}/../../\"\n",
    "MODEL_EVAL_DIR = BASE_DIR + \"model_eval/\""
   ]
  },
  {
   "cell_type": "code",
   "execution_count": 4,
   "id": "8e752ab4",
   "metadata": {
    "ExecuteTime": {
     "end_time": "2024-07-30T20:26:09.635760Z",
     "start_time": "2024-07-30T20:26:09.275820Z"
    },
    "execution": {
     "iopub.execute_input": "2024-12-12T12:15:00.273593Z",
     "iopub.status.busy": "2024-12-12T12:15:00.273502Z",
     "iopub.status.idle": "2024-12-12T12:15:00.583726Z",
     "shell.execute_reply": "2024-12-12T12:15:00.583368Z",
     "shell.execute_reply.started": "2024-12-12T12:15:00.273582Z"
    }
   },
   "outputs": [],
   "source": [
    "fid_file = \"fid-finetune_data-dataset_hk-news-timeInterval_1-timeIntervalType_time-finetuneType_base.csv\"\n",
    "fid = pd.read_csv(MODEL_EVAL_DIR + fid_file)\n",
    "\n",
    "fid = set_type_of_time_cols(fid)"
   ]
  },
  {
   "cell_type": "code",
   "execution_count": null,
   "id": "1b3a6a1a",
   "metadata": {
    "ExecuteTime": {
     "end_time": "2024-07-30T20:26:12.942882Z",
     "start_time": "2024-07-30T20:26:12.939642Z"
    },
    "execution": {
     "iopub.execute_input": "2024-12-12T12:15:00.585234Z",
     "iopub.status.busy": "2024-12-12T12:15:00.585126Z",
     "iopub.status.idle": "2024-12-12T12:15:00.588281Z",
     "shell.execute_reply": "2024-12-12T12:15:00.587964Z",
     "shell.execute_reply.started": "2024-12-12T12:15:00.585224Z"
    }
   },
   "outputs": [],
   "source": [
    "fid.columns"
   ]
  },
  {
   "cell_type": "markdown",
   "id": "5ab752af",
   "metadata": {},
   "source": [
    "## Add delta target features"
   ]
  },
  {
   "cell_type": "code",
   "execution_count": 6,
   "id": "9540529b",
   "metadata": {
    "ExecuteTime": {
     "end_time": "2024-07-30T20:26:12.954938Z",
     "start_time": "2024-07-30T20:26:12.943802Z"
    },
    "execution": {
     "iopub.execute_input": "2024-12-12T12:15:00.588813Z",
     "iopub.status.busy": "2024-12-12T12:15:00.588731Z",
     "iopub.status.idle": "2024-12-12T12:15:00.652734Z",
     "shell.execute_reply": "2024-12-12T12:15:00.652376Z",
     "shell.execute_reply.started": "2024-12-12T12:15:00.588803Z"
    }
   },
   "outputs": [],
   "source": [
    "for metric in METRICS:\n",
    "    for tactic in TACTICS:\n",
    "        fid[f'delta-target_{metric}_{tactic}'] = fid[f'target_{metric}_{tactic}'] - fid[f'curr_{metric}']\n",
    "\n",
    "    for test_set in HK_NEWS_TEST_SETS:\n",
    "        key = f\"{test_set}_{metric}\"\n",
    "        fid[f\"delta-target_{key}\"] = fid[f\"target_{key}\"] - fid[f\"curr_{key}\"]"
   ]
  },
  {
   "cell_type": "markdown",
   "id": "d7535415",
   "metadata": {},
   "source": [
    "## View data"
   ]
  },
  {
   "cell_type": "code",
   "execution_count": null,
   "id": "96e6e44f",
   "metadata": {
    "ExecuteTime": {
     "end_time": "2024-07-30T20:26:12.984184Z",
     "start_time": "2024-07-30T20:26:12.959735Z"
    },
    "execution": {
     "iopub.execute_input": "2024-12-12T12:15:00.653363Z",
     "iopub.status.busy": "2024-12-12T12:15:00.653268Z",
     "iopub.status.idle": "2024-12-12T12:15:00.665991Z",
     "shell.execute_reply": "2024-12-12T12:15:00.665710Z",
     "shell.execute_reply.started": "2024-12-12T12:15:00.653353Z"
    }
   },
   "outputs": [],
   "source": [
    "fid[[\n",
    "    'curr_finetune',\n",
    "    'prev_finetune',\n",
    "    'period_start_timestamp',\n",
    "    'period_end_timestamp',\n",
    "    'prev_finetune_period_start_timestamp',\n",
    "    'prev_finetune_period_end_timestamp',\n",
    "    'curr_finetune_week',\n",
    "    'prev_finetune_week',\n",
    "    'amount_new_data',\n",
    "]]"
   ]
  },
  {
   "cell_type": "markdown",
   "id": "acc7c798",
   "metadata": {},
   "source": [
    "### Look for NaN"
   ]
  },
  {
   "cell_type": "code",
   "execution_count": null,
   "id": "2a1100c1",
   "metadata": {
    "ExecuteTime": {
     "end_time": "2024-07-30T20:26:13.076057Z",
     "start_time": "2024-07-30T20:26:12.995749Z"
    },
    "execution": {
     "iopub.execute_input": "2024-12-12T12:15:00.666551Z",
     "iopub.status.busy": "2024-12-12T12:15:00.666462Z",
     "iopub.status.idle": "2024-12-12T12:15:00.717258Z",
     "shell.execute_reply": "2024-12-12T12:15:00.716839Z",
     "shell.execute_reply.started": "2024-12-12T12:15:00.666541Z"
    },
    "scrolled": true
   },
   "outputs": [],
   "source": [
    "print(\"Feature name\")\n",
    "print(\"-\"*50)\n",
    "for col in fid.columns:\n",
    "    print(f\"{col}\\t\\t{fid[col].isna().sum()}\")"
   ]
  },
  {
   "cell_type": "markdown",
   "id": "b4aea4bd",
   "metadata": {},
   "source": [
    "# Feature correlation"
   ]
  },
  {
   "cell_type": "code",
   "execution_count": null,
   "id": "ff177d09",
   "metadata": {
    "ExecuteTime": {
     "end_time": "2024-07-30T20:26:13.530911Z",
     "start_time": "2024-07-30T20:26:13.078054Z"
    },
    "execution": {
     "iopub.execute_input": "2024-12-12T12:15:00.717873Z",
     "iopub.status.busy": "2024-12-12T12:15:00.717774Z",
     "iopub.status.idle": "2024-12-12T12:15:01.171887Z",
     "shell.execute_reply": "2024-12-12T12:15:01.169525Z",
     "shell.execute_reply.started": "2024-12-12T12:15:00.717862Z"
    }
   },
   "outputs": [],
   "source": [
    "features = BASIC_FEATURES + ['delta-target_Finance_comet22']\n",
    "\n",
    "make_corr(features, fid, \"Feature correlation\")"
   ]
  },
  {
   "cell_type": "markdown",
   "id": "f2c0e6cf",
   "metadata": {},
   "source": [
    "# Build and evaluate predictors"
   ]
  },
  {
   "cell_type": "markdown",
   "id": "25ca0dde",
   "metadata": {},
   "source": [
    "## Predictors"
   ]
  },
  {
   "cell_type": "code",
   "execution_count": null,
   "id": "ac62e3b3",
   "metadata": {
    "ExecuteTime": {
     "end_time": "2024-07-30T20:26:13.537638Z",
     "start_time": "2024-07-30T20:26:13.533179Z"
    },
    "execution": {
     "iopub.execute_input": "2024-12-12T12:15:01.172588Z",
     "iopub.status.busy": "2024-12-12T12:15:01.172485Z",
     "iopub.status.idle": "2024-12-12T12:15:01.176688Z",
     "shell.execute_reply": "2024-12-12T12:15:01.176291Z",
     "shell.execute_reply.started": "2024-12-12T12:15:01.172577Z"
    }
   },
   "outputs": [],
   "source": [
    "predictors = [\n",
    "    \"lin\",\n",
    "    \"rf\", \n",
    "    \"xgb\",\n",
    "]\n",
    "f\"predictors: {predictors}\""
   ]
  },
  {
   "cell_type": "markdown",
   "id": "27b4bff0",
   "metadata": {},
   "source": [
    "## Features dict"
   ]
  },
  {
   "cell_type": "code",
   "execution_count": null,
   "id": "25377d14",
   "metadata": {
    "ExecuteTime": {
     "end_time": "2024-07-30T20:26:13.576723Z",
     "start_time": "2024-07-30T20:26:13.540345Z"
    },
    "execution": {
     "iopub.execute_input": "2024-12-12T12:15:01.177372Z",
     "iopub.status.busy": "2024-12-12T12:15:01.177291Z",
     "iopub.status.idle": "2024-12-12T12:15:01.182984Z",
     "shell.execute_reply": "2024-12-12T12:15:01.181629Z",
     "shell.execute_reply.started": "2024-12-12T12:15:01.177363Z"
    },
    "scrolled": true
   },
   "outputs": [],
   "source": [
    "features_dict = {\n",
    "    \"All\": BASIC_FEATURES + SYS_PERF_FEATURES + CONTENT_AWARE_FEATURES,\n",
    "    \"Basic\": BASIC_FEATURES,\n",
    "    \"ContAware\": CONTENT_AWARE_FEATURES,\n",
    "    \"MTQual\": SYS_PERF_FEATURES,\n",
    "    \"Basic-MTQual\": BASIC_FEATURES + SYS_PERF_FEATURES,\n",
    "    \"Basic-ContAware\": BASIC_FEATURES + CONTENT_AWARE_FEATURES,\n",
    "    \"ContAware--no-ngrams\": (\n",
    "        SENT_OVERLAP_FEATURES[\"new_data\"] + EMBEDDING_FEATURES[\"new_data\"]\n",
    "        + SENT_OVERLAP_FEATURES[\"finetune_data\"] + EMBEDDING_FEATURES[\"finetune_data\"]\n",
    "    ),\n",
    "    \"ContAware-MTQual\": CONTENT_AWARE_FEATURES + SYS_PERF_FEATURES,\n",
    "    \"All-kiwi\": BASIC_FEATURES + CONTENT_AWARE_FEATURES + [f for f in SYS_PERF_FEATURES if '-qe' in f],\n",
    "    \"Basic-kiwi\": BASIC_FEATURES + [f for f in SYS_PERF_FEATURES if '-qe' in f],\n",
    "    \"ContAware-kiwi\": CONTENT_AWARE_FEATURES + [f for f in SYS_PERF_FEATURES if '-qe' in f],\n",
    "}\n",
    "print(\"features_dict:\")\n",
    "print(json.dumps(features_dict, indent=4))"
   ]
  },
  {
   "cell_type": "code",
   "execution_count": 12,
   "id": "a6b8bd6b",
   "metadata": {
    "ExecuteTime": {
     "end_time": "2024-07-30T20:26:13.595938Z",
     "start_time": "2024-07-30T20:26:13.589335Z"
    },
    "execution": {
     "iopub.execute_input": "2024-12-12T12:15:01.185438Z",
     "iopub.status.busy": "2024-12-12T12:15:01.185093Z",
     "iopub.status.idle": "2024-12-12T12:15:01.192754Z",
     "shell.execute_reply": "2024-12-12T12:15:01.192121Z",
     "shell.execute_reply.started": "2024-12-12T12:15:01.185413Z"
    }
   },
   "outputs": [],
   "source": [
    "res_dict = {}\n",
    "feature_imp_dict = {}"
   ]
  },
  {
   "cell_type": "code",
   "execution_count": null,
   "id": "9a3d02bd",
   "metadata": {
    "ExecuteTime": {
     "start_time": "2024-07-30T20:26:08.171Z"
    },
    "execution": {
     "iopub.execute_input": "2024-12-12T12:15:01.193818Z",
     "iopub.status.busy": "2024-12-12T12:15:01.193616Z",
     "iopub.status.idle": "2024-12-12T12:36:55.082885Z",
     "shell.execute_reply": "2024-12-12T12:36:55.082381Z",
     "shell.execute_reply.started": "2024-12-12T12:15:01.193795Z"
    },
    "scrolled": true
   },
   "outputs": [],
   "source": [
    "for metric in [\"comet22\", \"chrf\", \"sacrebleu\", \"comet22-qe\"]:\n",
    "    for test_set in HK_NEWS_TEST_SETS:\n",
    "        target = f'delta-target_{test_set}_{metric}'\n",
    "\n",
    "        eval_FIPs_offline(\n",
    "            target=target, \n",
    "            features_dict=features_dict, \n",
    "            predictors=predictors, \n",
    "            res_dict=res_dict, \n",
    "            feature_imp_dict=feature_imp_dict, \n",
    "            dataset=fid,\n",
    "            dataset_name='hk-news',\n",
    "            fip_type='specific',\n",
    "            fid_type='normal'\n",
    "        )"
   ]
  },
  {
   "cell_type": "markdown",
   "id": "205feb7d",
   "metadata": {},
   "source": [
    "## Results"
   ]
  },
  {
   "cell_type": "code",
   "execution_count": 14,
   "id": "2eeaaeba",
   "metadata": {
    "ExecuteTime": {
     "start_time": "2024-07-30T20:26:08.213Z"
    },
    "execution": {
     "iopub.execute_input": "2024-12-12T12:36:55.088035Z",
     "iopub.status.busy": "2024-12-12T12:36:55.087844Z",
     "iopub.status.idle": "2024-12-12T12:36:55.494782Z",
     "shell.execute_reply": "2024-12-12T12:36:55.494446Z",
     "shell.execute_reply.started": "2024-12-12T12:36:55.088015Z"
    }
   },
   "outputs": [],
   "source": [
    "results = pd.DataFrame(res_dict).transpose()\n",
    "results['PCC'] = results['test-PCC'] * 100\n",
    "results['MAE'] = results['test-mae']\n",
    "\n",
    "results = results.round({'PCC': 2, 'MAE': 4})"
   ]
  },
  {
   "cell_type": "markdown",
   "id": "14ca0097-0f03-4b59-ab89-5c2b1b1419c4",
   "metadata": {},
   "source": [
    "### COMET22"
   ]
  },
  {
   "cell_type": "code",
   "execution_count": null,
   "id": "8316066b",
   "metadata": {
    "ExecuteTime": {
     "start_time": "2024-07-30T20:26:08.239Z"
    },
    "execution": {
     "iopub.execute_input": "2024-12-12T12:36:55.495484Z",
     "iopub.status.busy": "2024-12-12T12:36:55.495373Z"
    },
    "scrolled": true
   },
   "outputs": [],
   "source": [
    "get_results_table(\n",
    "    results = results.loc[results.metric=='comet22'],\n",
    "    fid_type = 'normal',\n",
    "    average = False,\n",
    "    single = False,    # whether to return a single table or a table for each predictor\n",
    "    to_latex = True,  # whether to print the table in latex\n",
    ")"
   ]
  },
  {
   "cell_type": "markdown",
   "id": "10edf5da-7bf9-4c9b-bee0-6705e63d9860",
   "metadata": {},
   "source": [
    "### chrF"
   ]
  },
  {
   "cell_type": "code",
   "execution_count": null,
   "id": "1cf97264-e2f8-4e49-a592-aca2373d92fe",
   "metadata": {
    "execution": {
     "iopub.execute_input": "2024-12-12T16:46:02.981342Z",
     "iopub.status.busy": "2024-12-12T16:46:02.971644Z",
     "iopub.status.idle": "2024-12-12T16:46:07.560251Z",
     "shell.execute_reply": "2024-12-12T16:46:07.559618Z",
     "shell.execute_reply.started": "2024-12-12T16:46:02.980937Z"
    },
    "scrolled": true
   },
   "outputs": [],
   "source": [
    "get_results_table(\n",
    "    results = results.loc[results.metric=='chrf'],\n",
    "    fid_type = 'normal',\n",
    "    average = False,\n",
    "    single = False,    # whether to return a single table or a table for each predictor\n",
    "    to_latex = True,  # whether to print the table in latex\n",
    ")"
   ]
  },
  {
   "cell_type": "markdown",
   "id": "92493e0d-c7e8-478f-b0ad-4e49af70449b",
   "metadata": {},
   "source": [
    "### sacreBLEU"
   ]
  },
  {
   "cell_type": "code",
   "execution_count": null,
   "id": "84da315f-8c3a-4e82-90f0-733254d650bc",
   "metadata": {
    "execution": {
     "iopub.execute_input": "2024-12-12T16:46:14.744194Z",
     "iopub.status.busy": "2024-12-12T16:46:14.743995Z",
     "iopub.status.idle": "2024-12-12T16:46:14.946324Z",
     "shell.execute_reply": "2024-12-12T16:46:14.945185Z",
     "shell.execute_reply.started": "2024-12-12T16:46:14.744178Z"
    }
   },
   "outputs": [],
   "source": [
    "get_results_table(\n",
    "    results = results.loc[results.metric=='sacrebleu'],\n",
    "    fid_type = 'normal',\n",
    "    average = False,\n",
    "    single = False,    # whether to return a single table or a table for each predictor\n",
    "    to_latex = True,  # whether to print the table in latex\n",
    ")"
   ]
  },
  {
   "cell_type": "markdown",
   "id": "fb8e23bf-ca1c-4b48-8c7b-09046312acda",
   "metadata": {},
   "source": [
    "### comet22-qe"
   ]
  },
  {
   "cell_type": "code",
   "execution_count": null,
   "id": "6b695ab2-0979-437a-bc29-6e0eefa64220",
   "metadata": {
    "execution": {
     "iopub.execute_input": "2024-12-12T16:46:20.292755Z",
     "iopub.status.busy": "2024-12-12T16:46:20.292552Z",
     "iopub.status.idle": "2024-12-12T16:46:20.419062Z",
     "shell.execute_reply": "2024-12-12T16:46:20.418211Z",
     "shell.execute_reply.started": "2024-12-12T16:46:20.292739Z"
    }
   },
   "outputs": [],
   "source": [
    "get_results_table(\n",
    "    results = results.loc[results.metric=='comet22-qe'],\n",
    "    fid_type = 'normal',\n",
    "    average = False,\n",
    "    single = False,    # whether to return a single table or a table for each predictor\n",
    "    to_latex = True,  # whether to print the table in latex\n",
    ")"
   ]
  }
 ],
 "metadata": {
  "hide_input": false,
  "kernelspec": {
   "display_name": "Python 3 (ipykernel)",
   "language": "python",
   "name": "python3"
  },
  "language_info": {
   "codemirror_mode": {
    "name": "ipython",
    "version": 3
   },
   "file_extension": ".py",
   "mimetype": "text/x-python",
   "name": "python",
   "nbconvert_exporter": "python",
   "pygments_lexer": "ipython3",
   "version": "3.8.18"
  },
  "latex_envs": {
   "LaTeX_envs_menu_present": true,
   "autoclose": false,
   "autocomplete": true,
   "bibliofile": "biblio.bib",
   "cite_by": "apalike",
   "current_citInitial": 1,
   "eqLabelWithNumbers": true,
   "eqNumInitial": 1,
   "hotkeys": {
    "equation": "Ctrl-E",
    "itemize": "Ctrl-I"
   },
   "labels_anchors": false,
   "latex_user_defs": false,
   "report_style_numbering": false,
   "user_envs_cfg": false
  },
  "toc": {
   "base_numbering": 1,
   "nav_menu": {},
   "number_sections": true,
   "sideBar": true,
   "skip_h1_title": false,
   "title_cell": "Table of Contents",
   "title_sidebar": "Contents",
   "toc_cell": false,
   "toc_position": {
    "height": "calc(100% - 180px)",
    "left": "10px",
    "top": "150px",
    "width": "250px"
   },
   "toc_section_display": true,
   "toc_window_display": true
  }
 },
 "nbformat": 4,
 "nbformat_minor": 5
}

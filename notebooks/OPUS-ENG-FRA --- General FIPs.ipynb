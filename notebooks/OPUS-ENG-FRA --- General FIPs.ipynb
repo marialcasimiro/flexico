{
 "cells": [
  {
   "cell_type": "markdown",
   "id": "a4e22890",
   "metadata": {},
   "source": [
    "# Required imports"
   ]
  },
  {
   "cell_type": "code",
   "execution_count": 1,
   "id": "c99e9fe7",
   "metadata": {
    "ExecuteTime": {
     "end_time": "2024-07-30T16:31:24.210763Z",
     "start_time": "2024-07-30T16:31:22.938346Z"
    },
    "execution": {
     "iopub.execute_input": "2024-12-15T17:10:14.290166Z",
     "iopub.status.busy": "2024-12-15T17:10:14.289800Z",
     "iopub.status.idle": "2024-12-15T17:10:15.433133Z",
     "shell.execute_reply": "2024-12-15T17:10:15.432794Z",
     "shell.execute_reply.started": "2024-12-15T17:10:14.290136Z"
    },
    "hide_input": false
   },
   "outputs": [],
   "source": [
    "import os\n",
    "import json\n",
    "import itertools\n",
    "import matplotlib.pyplot as plt\n",
    "import pandas as pd\n",
    "\n",
    "from helper_functions import *\n",
    "from opus_eng_fra_features import *"
   ]
  },
  {
   "cell_type": "markdown",
   "id": "8841de5f",
   "metadata": {},
   "source": [
    "# Plot settings"
   ]
  },
  {
   "cell_type": "code",
   "execution_count": 2,
   "id": "316f4a9c",
   "metadata": {
    "ExecuteTime": {
     "end_time": "2024-07-30T16:31:24.220248Z",
     "start_time": "2024-07-30T16:31:24.211978Z"
    },
    "execution": {
     "iopub.execute_input": "2024-12-15T17:10:15.434101Z",
     "iopub.status.busy": "2024-12-15T17:10:15.433928Z",
     "iopub.status.idle": "2024-12-15T17:10:15.440868Z",
     "shell.execute_reply": "2024-12-15T17:10:15.440595Z",
     "shell.execute_reply.started": "2024-12-15T17:10:15.434089Z"
    }
   },
   "outputs": [],
   "source": [
    "SIZE = 10\n",
    "\n",
    "plt.rc('xtick', labelsize=SIZE)\n",
    "plt.rc('ytick', labelsize=SIZE)\n",
    "plt.rc('font', size=SIZE)\n",
    "plt.rc('axes', labelsize=SIZE)\n",
    "plt.rcParams[\"figure.figsize\"] = (15,11)\n",
    "\n",
    "\n",
    "metrics_palette = {\n",
    "    'comet22': \"lightsteelblue\", \n",
    "    'comet22-qe': \"royalblue\", \n",
    "    'chrf': \"khaki\", \n",
    "    'sacrebleu': \"goldenrod\",\n",
    "}\n",
    "\n",
    "scalers_palette = {\n",
    "    'none, lin': \"#11324D\",\n",
    "    'none, rf': \"#6B7AA1\", \n",
    "    'none, xgb': \"#A6DCEF\",\n",
    "    'standard, lin': \"#3A4D39\",\n",
    "    'standard, rf': \"#79AC78\", \n",
    "    'standard, xgb': \"#D0E7D2\", \n",
    "    'min-max, lin': \"#7F669D\",\n",
    "    'min-max, rf': \"#BA94D1\", \n",
    "    'min-max, xgb': \"#DEBACE\",\n",
    "}\n",
    "\n",
    "%matplotlib widget"
   ]
  },
  {
   "cell_type": "markdown",
   "id": "045f5614",
   "metadata": {},
   "source": [
    "# Load data"
   ]
  },
  {
   "cell_type": "code",
   "execution_count": 3,
   "id": "9a3b8a29",
   "metadata": {
    "ExecuteTime": {
     "end_time": "2024-07-30T16:31:24.222550Z",
     "start_time": "2024-07-30T16:31:24.221050Z"
    },
    "execution": {
     "iopub.execute_input": "2024-12-15T17:10:15.441418Z",
     "iopub.status.busy": "2024-12-15T17:10:15.441331Z",
     "iopub.status.idle": "2024-12-15T17:10:15.443151Z",
     "shell.execute_reply": "2024-12-15T17:10:15.442901Z",
     "shell.execute_reply.started": "2024-12-15T17:10:15.441408Z"
    }
   },
   "outputs": [],
   "source": [
    "BASE_DIR = f\"{os.getcwd()}/../../\"\n",
    "MODEL_EVAL_DIR = BASE_DIR + \"model_eval/\""
   ]
  },
  {
   "cell_type": "code",
   "execution_count": 4,
   "id": "8e752ab4",
   "metadata": {
    "ExecuteTime": {
     "end_time": "2024-07-30T16:31:24.401670Z",
     "start_time": "2024-07-30T16:31:24.223935Z"
    },
    "execution": {
     "iopub.execute_input": "2024-12-15T17:10:15.444269Z",
     "iopub.status.busy": "2024-12-15T17:10:15.444169Z",
     "iopub.status.idle": "2024-12-15T17:10:15.627661Z",
     "shell.execute_reply": "2024-12-15T17:10:15.627276Z",
     "shell.execute_reply.started": "2024-12-15T17:10:15.444259Z"
    }
   },
   "outputs": [],
   "source": [
    "fid_file = \"fid-finetune_data-dataset_opus_eng_fra-timeInterval_10000-timeIntervalType_sentence-finetuneType_base.csv\"\n",
    "fid = pd.read_csv(MODEL_EVAL_DIR + fid_file)"
   ]
  },
  {
   "cell_type": "code",
   "execution_count": null,
   "id": "1b3a6a1a",
   "metadata": {
    "ExecuteTime": {
     "end_time": "2024-07-30T16:31:24.589999Z",
     "start_time": "2024-07-30T16:31:24.587226Z"
    },
    "execution": {
     "iopub.execute_input": "2024-12-15T17:10:15.628344Z",
     "iopub.status.busy": "2024-12-15T17:10:15.628249Z",
     "iopub.status.idle": "2024-12-15T17:10:15.631121Z",
     "shell.execute_reply": "2024-12-15T17:10:15.630854Z",
     "shell.execute_reply.started": "2024-12-15T17:10:15.628333Z"
    }
   },
   "outputs": [],
   "source": [
    "fid.columns"
   ]
  },
  {
   "cell_type": "markdown",
   "id": "5ab752af",
   "metadata": {},
   "source": [
    "## Add delta target features"
   ]
  },
  {
   "cell_type": "code",
   "execution_count": 6,
   "id": "9540529b",
   "metadata": {
    "ExecuteTime": {
     "end_time": "2024-07-30T16:31:24.599280Z",
     "start_time": "2024-07-30T16:31:24.590762Z"
    },
    "execution": {
     "iopub.execute_input": "2024-12-15T17:10:15.631724Z",
     "iopub.status.busy": "2024-12-15T17:10:15.631601Z",
     "iopub.status.idle": "2024-12-15T17:10:15.694491Z",
     "shell.execute_reply": "2024-12-15T17:10:15.694146Z",
     "shell.execute_reply.started": "2024-12-15T17:10:15.631713Z"
    }
   },
   "outputs": [],
   "source": [
    "for test_set in OPUS_TEST_SETS:\n",
    "    for metric in METRICS:\n",
    "        key = f\"{test_set}_{metric}\"\n",
    "        fid[f\"delta-target_{key}\"] = fid[f\"target_{key}\"] - fid[f\"curr_{key}\"]"
   ]
  },
  {
   "cell_type": "markdown",
   "id": "d7535415",
   "metadata": {},
   "source": [
    "## View data"
   ]
  },
  {
   "cell_type": "code",
   "execution_count": null,
   "id": "96e6e44f",
   "metadata": {
    "ExecuteTime": {
     "end_time": "2024-07-30T16:31:24.613975Z",
     "start_time": "2024-07-30T16:31:24.600068Z"
    },
    "execution": {
     "iopub.execute_input": "2024-12-15T17:10:15.695068Z",
     "iopub.status.busy": "2024-12-15T17:10:15.694970Z",
     "iopub.status.idle": "2024-12-15T17:10:15.708861Z",
     "shell.execute_reply": "2024-12-15T17:10:15.708527Z",
     "shell.execute_reply.started": "2024-12-15T17:10:15.695057Z"
    }
   },
   "outputs": [],
   "source": [
    "fid.loc[\n",
    "    (fid.prev_finetune == 10000)\n",
    "    & (fid.curr_finetune == 20000)\n",
    "]"
   ]
  },
  {
   "cell_type": "markdown",
   "id": "acc7c798",
   "metadata": {},
   "source": [
    "### Look for NaN"
   ]
  },
  {
   "cell_type": "code",
   "execution_count": null,
   "id": "2a1100c1",
   "metadata": {
    "ExecuteTime": {
     "end_time": "2024-07-30T16:31:24.659663Z",
     "start_time": "2024-07-30T16:31:24.614836Z"
    },
    "execution": {
     "iopub.execute_input": "2024-12-15T17:10:15.709671Z",
     "iopub.status.busy": "2024-12-15T17:10:15.709526Z",
     "iopub.status.idle": "2024-12-15T17:10:15.757201Z",
     "shell.execute_reply": "2024-12-15T17:10:15.756648Z",
     "shell.execute_reply.started": "2024-12-15T17:10:15.709659Z"
    },
    "scrolled": true
   },
   "outputs": [],
   "source": [
    "print(\"Feature name\")\n",
    "print(\"-\"*50)\n",
    "for col in fid.columns:\n",
    "    print(f\"{col}\\t\\t{fid[col].isna().sum()}\")"
   ]
  },
  {
   "cell_type": "markdown",
   "id": "7ae81146",
   "metadata": {},
   "source": [
    "# Load/Create general FID"
   ]
  },
  {
   "cell_type": "code",
   "execution_count": 9,
   "id": "5e9257f2",
   "metadata": {
    "ExecuteTime": {
     "end_time": "2024-07-30T16:31:25.011650Z",
     "start_time": "2024-07-30T16:31:24.662147Z"
    },
    "execution": {
     "iopub.execute_input": "2024-12-15T17:10:15.757796Z",
     "iopub.status.busy": "2024-12-15T17:10:15.757689Z",
     "iopub.status.idle": "2024-12-15T17:10:16.301759Z",
     "shell.execute_reply": "2024-12-15T17:10:16.301371Z",
     "shell.execute_reply.started": "2024-12-15T17:10:15.757785Z"
    }
   },
   "outputs": [],
   "source": [
    "try:\n",
    "    general_fid = pd.read_csv(\n",
    "        MODEL_EVAL_DIR + f\"general_{fid_file}\",\n",
    "    )\n",
    "    \n",
    "except OSError as e:\n",
    "    print(f\"[W] {e}\\n[E] General FID does not exist in dir {MODEL_EVAL_DIR}. Creating...\")\n",
    "    general_fid = create_general_fid(\n",
    "        df=fid,\n",
    "        dataset_name='opus',\n",
    "    )\n",
    "    list(general_fid.columns)\n",
    "    \n",
    "    general_fid.to_csv(\n",
    "        path_or_buf=MODEL_EVAL_DIR + f\"general_{fid_file}\", \n",
    "        index=False\n",
    "    )"
   ]
  },
  {
   "cell_type": "markdown",
   "id": "8b1e6eeb",
   "metadata": {},
   "source": [
    "# Experimental settings"
   ]
  },
  {
   "cell_type": "markdown",
   "id": "25ca0dde",
   "metadata": {},
   "source": [
    "## Predictors"
   ]
  },
  {
   "cell_type": "code",
   "execution_count": null,
   "id": "ac62e3b3",
   "metadata": {
    "ExecuteTime": {
     "end_time": "2024-07-30T16:31:25.029678Z",
     "start_time": "2024-07-30T16:31:25.027290Z"
    },
    "execution": {
     "iopub.execute_input": "2024-12-15T17:10:16.303520Z",
     "iopub.status.busy": "2024-12-15T17:10:16.303306Z",
     "iopub.status.idle": "2024-12-15T17:10:16.305880Z",
     "shell.execute_reply": "2024-12-15T17:10:16.305608Z",
     "shell.execute_reply.started": "2024-12-15T17:10:16.303503Z"
    }
   },
   "outputs": [],
   "source": [
    "predictors = [\n",
    "    \"lin\",\n",
    "    \"rf\", \n",
    "    \"xgb\",\n",
    "]\n",
    "f\"predictors: {predictors}\""
   ]
  },
  {
   "cell_type": "markdown",
   "id": "28f420ac",
   "metadata": {},
   "source": [
    "## Features dict"
   ]
  },
  {
   "cell_type": "code",
   "execution_count": null,
   "id": "b25ec2a8",
   "metadata": {
    "ExecuteTime": {
     "end_time": "2024-07-30T16:31:25.032147Z",
     "start_time": "2024-07-30T16:31:25.030391Z"
    },
    "execution": {
     "iopub.execute_input": "2024-12-15T17:10:16.306512Z",
     "iopub.status.busy": "2024-12-15T17:10:16.306378Z",
     "iopub.status.idle": "2024-12-15T17:10:16.310600Z",
     "shell.execute_reply": "2024-12-15T17:10:16.310346Z",
     "shell.execute_reply.started": "2024-12-15T17:10:16.306499Z"
    }
   },
   "outputs": [],
   "source": [
    "features_dict={\n",
    "    'All': GENERIC_CONTENT_AWARE_FEATURES + BASIC_FEATURES + GENERIC_SYS_PERF_FEATURES,\n",
    "    'Basic': BASIC_FEATURES,\n",
    "    'ContAware': GENERIC_CONTENT_AWARE_FEATURES,\n",
    "    \"MTQual\": GENERIC_SYS_PERF_FEATURES,\n",
    "    \"Basic-MTQual\": BASIC_FEATURES + GENERIC_SYS_PERF_FEATURES,\n",
    "    \"Basic-ContAware\": BASIC_FEATURES + GENERIC_CONTENT_AWARE_FEATURES,\n",
    "    \"ContAware-no-ngrams\": [f for f in GENERIC_CONTENT_AWARE_FEATURES if \"gram\" not in f],\n",
    "    \"ContAware-MTQual\": GENERIC_CONTENT_AWARE_FEATURES + GENERIC_SYS_PERF_FEATURES,\n",
    "    'All-kiwi': GENERIC_CONTENT_AWARE_FEATURES + BASIC_FEATURES + [f for f in GENERIC_SYS_PERF_FEATURES if '-qe' in f ],\n",
    "    'Basic-kiwi': BASIC_FEATURES + [f for f in GENERIC_SYS_PERF_FEATURES if '-qe' in f ],\n",
    "    'ContAware-kiwi': GENERIC_CONTENT_AWARE_FEATURES + [f for f in GENERIC_SYS_PERF_FEATURES if '-qe' in f ],\n",
    "}\n",
    "\n",
    "print(\"features_dict:\")\n",
    "print(json.dumps(features_dict, indent=4))"
   ]
  },
  {
   "cell_type": "markdown",
   "id": "b0789280",
   "metadata": {},
   "source": [
    "# Evaluate FIPs"
   ]
  },
  {
   "cell_type": "code",
   "execution_count": 12,
   "id": "a027f6cf",
   "metadata": {
    "ExecuteTime": {
     "end_time": "2024-07-30T16:31:25.037480Z",
     "start_time": "2024-07-30T16:31:25.035966Z"
    },
    "execution": {
     "iopub.execute_input": "2024-12-13T17:30:30.000684Z",
     "iopub.status.busy": "2024-12-13T17:30:30.000584Z",
     "iopub.status.idle": "2024-12-13T17:30:30.003584Z",
     "shell.execute_reply": "2024-12-13T17:30:30.003127Z",
     "shell.execute_reply.started": "2024-12-13T17:30:30.000673Z"
    }
   },
   "outputs": [],
   "source": [
    "res_dict = {}\n",
    "feature_imp_dict = {}"
   ]
  },
  {
   "cell_type": "code",
   "execution_count": null,
   "id": "431cc36c",
   "metadata": {
    "ExecuteTime": {
     "end_time": "2024-07-30T16:32:09.206997Z",
     "start_time": "2024-07-30T16:31:25.038147Z"
    },
    "execution": {
     "iopub.execute_input": "2024-12-13T17:30:30.004617Z",
     "iopub.status.busy": "2024-12-13T17:30:30.004506Z",
     "iopub.status.idle": "2024-12-13T17:35:46.875450Z",
     "shell.execute_reply": "2024-12-13T17:35:46.874829Z",
     "shell.execute_reply.started": "2024-12-13T17:30:30.004606Z"
    }
   },
   "outputs": [],
   "source": [
    "for metric in ['comet22', 'chrf', 'sacrebleu', 'comet22-qe']:\n",
    "    eval_FIPs_offline(\n",
    "        target=f'delta-target_test_set_{metric}', \n",
    "        features_dict=features_dict, \n",
    "        predictors=predictors, \n",
    "        res_dict=res_dict, \n",
    "        feature_imp_dict=feature_imp_dict, \n",
    "        dataset=general_fid,\n",
    "        dataset_name='opus',\n",
    "        fip_type='generic',\n",
    "        fid_type='normal',\n",
    "    )"
   ]
  },
  {
   "cell_type": "markdown",
   "id": "19cd86aa",
   "metadata": {},
   "source": [
    "## Results"
   ]
  },
  {
   "cell_type": "code",
   "execution_count": 14,
   "id": "d17c22b5",
   "metadata": {
    "ExecuteTime": {
     "end_time": "2024-07-30T16:32:41.088222Z",
     "start_time": "2024-07-30T16:32:41.071278Z"
    },
    "execution": {
     "iopub.execute_input": "2024-12-13T17:35:46.876319Z",
     "iopub.status.busy": "2024-12-13T17:35:46.876205Z",
     "iopub.status.idle": "2024-12-13T17:35:46.915880Z",
     "shell.execute_reply": "2024-12-13T17:35:46.915224Z",
     "shell.execute_reply.started": "2024-12-13T17:35:46.876308Z"
    }
   },
   "outputs": [],
   "source": [
    "results = pd.DataFrame(res_dict).transpose()\n",
    "results['PCC'] = results['test-PCC'] * 100\n",
    "results['MAE'] = results['test-mae']\n",
    "\n",
    "results = results.round({'PCC': 2, 'MAE': 4})"
   ]
  },
  {
   "cell_type": "markdown",
   "id": "3466b31e-c9f4-41c0-9949-8af98d54bdc8",
   "metadata": {},
   "source": [
    "### COMET22"
   ]
  },
  {
   "cell_type": "code",
   "execution_count": null,
   "id": "a71f268f",
   "metadata": {
    "ExecuteTime": {
     "end_time": "2024-07-30T16:32:41.167575Z",
     "start_time": "2024-07-30T16:32:41.102206Z"
    },
    "execution": {
     "iopub.execute_input": "2024-12-13T17:40:23.576417Z",
     "iopub.status.busy": "2024-12-13T17:40:23.576270Z",
     "iopub.status.idle": "2024-12-13T17:40:23.812650Z",
     "shell.execute_reply": "2024-12-13T17:40:23.811955Z",
     "shell.execute_reply.started": "2024-12-13T17:40:23.576404Z"
    }
   },
   "outputs": [],
   "source": [
    "get_results_table(\n",
    "    results = results.loc[results.metric == 'comet22'],\n",
    "    fid_type = 'normal',\n",
    "    average = False,\n",
    "    single = False,    # whether to return a single table or a table for each predictor\n",
    "    to_latex = True,  # whether to print the table in latex\n",
    ")"
   ]
  },
  {
   "cell_type": "markdown",
   "id": "f28b4742-4859-486f-840e-f1edde26c0aa",
   "metadata": {},
   "source": [
    "### chrF"
   ]
  },
  {
   "cell_type": "code",
   "execution_count": null,
   "id": "1e55181f-0fc4-485d-97b7-32149a41fcfc",
   "metadata": {
    "execution": {
     "iopub.execute_input": "2024-12-13T17:44:41.036507Z",
     "iopub.status.busy": "2024-12-13T17:44:41.036059Z",
     "iopub.status.idle": "2024-12-13T17:44:41.230243Z",
     "shell.execute_reply": "2024-12-13T17:44:41.229585Z",
     "shell.execute_reply.started": "2024-12-13T17:44:41.036467Z"
    }
   },
   "outputs": [],
   "source": [
    "get_results_table(\n",
    "    results = results.loc[results.metric == 'chrf'],\n",
    "    fid_type = 'normal',\n",
    "    average = False,\n",
    "    single = False,    # whether to return a single table or a table for each predictor\n",
    "    to_latex = True,  # whether to print the table in latex\n",
    ")"
   ]
  },
  {
   "cell_type": "markdown",
   "id": "018ce584-b269-49ea-8d6c-596de5c5098f",
   "metadata": {},
   "source": [
    "### sacreBLEU"
   ]
  },
  {
   "cell_type": "code",
   "execution_count": null,
   "id": "1ee0753d-6747-4af9-a665-99264c307ed2",
   "metadata": {
    "execution": {
     "iopub.execute_input": "2024-12-13T17:50:55.450269Z",
     "iopub.status.busy": "2024-12-13T17:50:55.448363Z",
     "iopub.status.idle": "2024-12-13T17:50:55.594597Z",
     "shell.execute_reply": "2024-12-13T17:50:55.594219Z",
     "shell.execute_reply.started": "2024-12-13T17:50:55.450225Z"
    }
   },
   "outputs": [],
   "source": [
    "get_results_table(\n",
    "    results = results.loc[results.metric == 'sacrebleu'],\n",
    "    fid_type = 'normal',\n",
    "    average = False,\n",
    "    single = False,    # whether to return a single table or a table for each predictor\n",
    "    to_latex = True,  # whether to print the table in latex\n",
    ")"
   ]
  },
  {
   "cell_type": "markdown",
   "id": "20e7eb1d-5729-4bbf-9973-0ebeb86c7620",
   "metadata": {},
   "source": [
    "### comet22-qe"
   ]
  },
  {
   "cell_type": "code",
   "execution_count": null,
   "id": "b66af342-0117-48e1-9267-9fc3c883a6bb",
   "metadata": {
    "execution": {
     "iopub.execute_input": "2024-12-13T17:55:32.861215Z",
     "iopub.status.busy": "2024-12-13T17:55:32.860777Z",
     "iopub.status.idle": "2024-12-13T17:55:33.014177Z",
     "shell.execute_reply": "2024-12-13T17:55:33.013809Z",
     "shell.execute_reply.started": "2024-12-13T17:55:32.861179Z"
    }
   },
   "outputs": [],
   "source": [
    "get_results_table(\n",
    "    results = results.loc[results.metric == 'comet22-qe'],\n",
    "    fid_type = 'normal',\n",
    "    average = False,\n",
    "    single = False,    # whether to return a single table or a table for each predictor\n",
    "    to_latex = True,  # whether to print the table in latex\n",
    ")"
   ]
  },
  {
   "cell_type": "markdown",
   "id": "0be4304e",
   "metadata": {},
   "source": [
    "# Test Leave-N-Out"
   ]
  },
  {
   "cell_type": "code",
   "execution_count": 12,
   "id": "844669d4",
   "metadata": {
    "ExecuteTime": {
     "end_time": "2024-07-23T19:23:05.675452Z",
     "start_time": "2024-07-23T19:23:05.668918Z"
    },
    "execution": {
     "iopub.execute_input": "2024-12-15T17:10:20.856312Z",
     "iopub.status.busy": "2024-12-15T17:10:20.855875Z",
     "iopub.status.idle": "2024-12-15T17:10:20.859958Z",
     "shell.execute_reply": "2024-12-15T17:10:20.859042Z",
     "shell.execute_reply.started": "2024-12-15T17:10:20.856276Z"
    }
   },
   "outputs": [],
   "source": [
    "lno_res_dict = {}\n",
    "lno_feature_imp_dict = {}"
   ]
  },
  {
   "cell_type": "code",
   "execution_count": null,
   "id": "cb499df2",
   "metadata": {
    "ExecuteTime": {
     "start_time": "2024-07-23T19:21:55.081Z"
    },
    "execution": {
     "iopub.execute_input": "2024-12-15T17:10:20.865940Z",
     "iopub.status.busy": "2024-12-15T17:10:20.865571Z",
     "iopub.status.idle": "2024-12-15T17:16:36.865309Z",
     "shell.execute_reply": "2024-12-15T17:16:36.864796Z",
     "shell.execute_reply.started": "2024-12-15T17:10:20.865904Z"
    },
    "scrolled": true
   },
   "outputs": [],
   "source": [
    "test_set_combinations = []\n",
    "subset_size = 1\n",
    "for subset in itertools.combinations(OPUS_TEST_SETS, subset_size):\n",
    "    test_set_combinations.append(list(subset))\n",
    "\n",
    "print(test_set_combinations)\n",
    "print(len(test_set_combinations))\n",
    "\n",
    "for metric in ['comet22-qe']: #['comet22', 'chrf', 'sacrebleu', 'comet22-qe']:\n",
    "    for test_set_comb in test_set_combinations:\n",
    "        eval_FIPs_offline(\n",
    "            target=f'delta-target_test_set_{metric}', \n",
    "            features_dict=features_dict, \n",
    "            predictors=predictors, \n",
    "            res_dict=lno_res_dict, \n",
    "            feature_imp_dict=lno_feature_imp_dict, \n",
    "            dataset=general_fid,\n",
    "            dataset_name='opus',\n",
    "            fip_type='generic',\n",
    "            fid_type='normal',\n",
    "            l1o_test_set=test_set_comb,\n",
    "        )"
   ]
  },
  {
   "cell_type": "markdown",
   "id": "1833ab81",
   "metadata": {},
   "source": [
    "## Results"
   ]
  },
  {
   "cell_type": "code",
   "execution_count": 14,
   "id": "edb8ded6",
   "metadata": {
    "ExecuteTime": {
     "end_time": "2024-07-26T17:36:45.614836Z",
     "start_time": "2024-07-26T17:35:01.315862Z"
    },
    "execution": {
     "iopub.execute_input": "2024-12-15T17:16:39.445060Z",
     "iopub.status.busy": "2024-12-15T17:16:39.444956Z",
     "iopub.status.idle": "2024-12-15T17:16:39.464351Z",
     "shell.execute_reply": "2024-12-15T17:16:39.464062Z",
     "shell.execute_reply.started": "2024-12-15T17:16:39.445049Z"
    }
   },
   "outputs": [],
   "source": [
    "lno_results = pd.DataFrame(lno_res_dict).transpose()\n",
    "lno_results['PCC'] = lno_results['test-PCC'] * 100\n",
    "lno_results['MAE'] = lno_results['test-mae']\n",
    "\n",
    "lno_results = lno_results.round({'PCC': 2, 'MAE': 4})"
   ]
  },
  {
   "cell_type": "markdown",
   "id": "c919bb82-cb55-4a12-8af3-3f400e0ec35c",
   "metadata": {},
   "source": [
    "### comet22"
   ]
  },
  {
   "cell_type": "code",
   "execution_count": null,
   "id": "b66282c1",
   "metadata": {
    "ExecuteTime": {
     "end_time": "2024-07-26T17:37:34.485360Z",
     "start_time": "2024-07-26T17:37:32.765319Z"
    },
    "execution": {
     "iopub.execute_input": "2024-12-15T15:53:00.312242Z",
     "iopub.status.busy": "2024-12-15T15:53:00.312123Z",
     "iopub.status.idle": "2024-12-15T15:53:00.865526Z",
     "shell.execute_reply": "2024-12-15T15:53:00.864914Z",
     "shell.execute_reply.started": "2024-12-15T15:53:00.312228Z"
    },
    "scrolled": true
   },
   "outputs": [],
   "source": [
    "FID_TYPE = 'normal'\n",
    "\n",
    "for predictor in lno_results.predictor.unique():\n",
    "    res_table = lno_results.loc[\n",
    "        (lno_results.fid_type == FID_TYPE)\n",
    "        & (lno_results.predictor == predictor)\n",
    "        & (lno_results.metric == 'comet22')\n",
    "    ][[\n",
    "        'l1o-test_set',\n",
    "        'predictor',\n",
    "        'metric',\n",
    "        'features',\n",
    "        'MAE',\n",
    "        'PCC',\n",
    "    ]].pivot(\n",
    "        index='l1o-test_set', columns=['predictor', 'features'], values=['MAE', 'PCC']\n",
    "    ).stack(level=0).transpose().style.apply(\n",
    "        lambda col: highlight_opt(col),\n",
    "        axis=0,\n",
    "    )\n",
    "\n",
    "    display(res_table)\n",
    "    \n",
    "#     if 'rf' in predictor:\n",
    "     # to latex\n",
    "    print(res_table.to_latex(convert_css=True))"
   ]
  },
  {
   "cell_type": "markdown",
   "id": "429aec69-2af5-48e4-895f-7d5d695f1e68",
   "metadata": {},
   "source": [
    "### chrF"
   ]
  },
  {
   "cell_type": "code",
   "execution_count": null,
   "id": "0466b5e6-146a-4b20-bc09-c3775b0ae072",
   "metadata": {
    "execution": {
     "iopub.execute_input": "2024-12-15T16:31:58.592738Z",
     "iopub.status.busy": "2024-12-15T16:31:58.592579Z",
     "iopub.status.idle": "2024-12-15T16:31:59.475939Z",
     "shell.execute_reply": "2024-12-15T16:31:59.467325Z",
     "shell.execute_reply.started": "2024-12-15T16:31:58.592723Z"
    },
    "scrolled": true
   },
   "outputs": [],
   "source": [
    "FID_TYPE = 'normal'\n",
    "\n",
    "for predictor in lno_results.predictor.unique():\n",
    "    res_table = lno_results.loc[\n",
    "        (lno_results.fid_type == FID_TYPE)\n",
    "        & (lno_results.predictor == predictor)\n",
    "        & (lno_results.metric == 'chrf')\n",
    "    ][[\n",
    "        'l1o-test_set',\n",
    "        'predictor',\n",
    "        'metric',\n",
    "        'features',\n",
    "        'MAE',\n",
    "        'PCC',\n",
    "    ]].pivot(\n",
    "        index='l1o-test_set', columns=['predictor', 'features'], values=['MAE', 'PCC']\n",
    "    ).stack(level=0).transpose().style.apply(\n",
    "        lambda col: highlight_opt(col),\n",
    "        axis=0,\n",
    "    )\n",
    "\n",
    "    display(res_table)\n",
    "    \n",
    "#     if 'rf' in predictor:\n",
    "     # to latex\n",
    "    print(res_table.to_latex(convert_css=True))"
   ]
  },
  {
   "cell_type": "markdown",
   "id": "e549e4c7-3b61-4002-93da-733b1a740937",
   "metadata": {},
   "source": [
    "### sacreBLEU"
   ]
  },
  {
   "cell_type": "code",
   "execution_count": null,
   "id": "1b935b02-0995-4776-999e-8bf895428d0e",
   "metadata": {
    "execution": {
     "iopub.execute_input": "2024-12-15T16:46:33.650356Z",
     "iopub.status.busy": "2024-12-15T16:46:33.650209Z",
     "iopub.status.idle": "2024-12-15T16:46:34.162472Z",
     "shell.execute_reply": "2024-12-15T16:46:34.161458Z",
     "shell.execute_reply.started": "2024-12-15T16:46:33.650342Z"
    },
    "scrolled": true
   },
   "outputs": [],
   "source": [
    "FID_TYPE = 'normal'\n",
    "\n",
    "for predictor in lno_results.predictor.unique():\n",
    "    res_table = lno_results.loc[\n",
    "        (lno_results.fid_type == FID_TYPE)\n",
    "        & (lno_results.predictor == predictor)\n",
    "        & (lno_results.metric == 'sacrebleu')\n",
    "    ][[\n",
    "        'l1o-test_set',\n",
    "        'predictor',\n",
    "        'metric',\n",
    "        'features',\n",
    "        'MAE',\n",
    "        'PCC',\n",
    "    ]].pivot(\n",
    "        index='l1o-test_set', columns=['predictor', 'features'], values=['MAE', 'PCC']\n",
    "    ).stack(level=0).transpose().style.apply(\n",
    "        lambda col: highlight_opt(col),\n",
    "        axis=0,\n",
    "    )\n",
    "\n",
    "    display(res_table)\n",
    "    \n",
    "#     if 'rf' in predictor:\n",
    "     # to latex\n",
    "    print(res_table.to_latex(convert_css=True))"
   ]
  },
  {
   "cell_type": "markdown",
   "id": "0920381d-f60a-4e95-a845-f635b5ffa634",
   "metadata": {},
   "source": [
    "### comet22-qe"
   ]
  },
  {
   "cell_type": "code",
   "execution_count": null,
   "id": "669b7acd-20d5-4fe9-99b1-84b11f2f8351",
   "metadata": {
    "execution": {
     "iopub.status.idle": "2024-12-15T17:16:40.570123Z",
     "shell.execute_reply": "2024-12-15T17:16:40.569856Z",
     "shell.execute_reply.started": "2024-12-15T17:16:40.462438Z"
    },
    "scrolled": true
   },
   "outputs": [],
   "source": [
    "FID_TYPE = 'normal'\n",
    "\n",
    "for predictor in lno_results.predictor.unique():\n",
    "    res_table = lno_results.loc[\n",
    "        (lno_results.fid_type == FID_TYPE)\n",
    "        & (lno_results.predictor == predictor)\n",
    "        & (lno_results.metric == 'comet22-qe')\n",
    "    ][[\n",
    "        'l1o-test_set',\n",
    "        'predictor',\n",
    "        'metric',\n",
    "        'features',\n",
    "        'MAE',\n",
    "        'PCC',\n",
    "    ]].pivot(\n",
    "        index='l1o-test_set', columns=['predictor', 'features'], values=['MAE', 'PCC']\n",
    "    ).stack(level=0).transpose().style.apply(\n",
    "        lambda col: highlight_opt(col),\n",
    "        axis=0,\n",
    "    )\n",
    "\n",
    "    display(res_table)\n",
    "    \n",
    "#     if 'rf' in predictor:\n",
    "     # to latex\n",
    "    print(res_table.to_latex(convert_css=True))"
   ]
  }
 ],
 "metadata": {
  "hide_input": false,
  "kernelspec": {
   "display_name": "Python 3 (ipykernel)",
   "language": "python",
   "name": "python3"
  },
  "language_info": {
   "codemirror_mode": {
    "name": "ipython",
    "version": 3
   },
   "file_extension": ".py",
   "mimetype": "text/x-python",
   "name": "python",
   "nbconvert_exporter": "python",
   "pygments_lexer": "ipython3",
   "version": "3.8.18"
  },
  "latex_envs": {
   "LaTeX_envs_menu_present": true,
   "autoclose": false,
   "autocomplete": true,
   "bibliofile": "biblio.bib",
   "cite_by": "apalike",
   "current_citInitial": 1,
   "eqLabelWithNumbers": true,
   "eqNumInitial": 1,
   "hotkeys": {
    "equation": "Ctrl-E",
    "itemize": "Ctrl-I"
   },
   "labels_anchors": false,
   "latex_user_defs": false,
   "report_style_numbering": false,
   "user_envs_cfg": false
  },
  "toc": {
   "base_numbering": 1,
   "nav_menu": {},
   "number_sections": true,
   "sideBar": true,
   "skip_h1_title": false,
   "title_cell": "Table of Contents",
   "title_sidebar": "Contents",
   "toc_cell": false,
   "toc_position": {
    "height": "calc(100% - 180px)",
    "left": "10px",
    "top": "150px",
    "width": "250px"
   },
   "toc_section_display": true,
   "toc_window_display": true
  }
 },
 "nbformat": 4,
 "nbformat_minor": 5
}
